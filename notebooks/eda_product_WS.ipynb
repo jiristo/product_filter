{
 "cells": [
  {
   "cell_type": "code",
   "execution_count": 61,
   "metadata": {},
   "outputs": [],
   "source": [
    "import json\n",
    "import pandas as pd\n",
    "import gzip\n",
    "import os\n",
    "\n",
    "\n",
    "import seaborn as sns\n"
   ]
  },
  {
   "cell_type": "code",
   "execution_count": null,
   "metadata": {},
   "outputs": [],
   "source": []
  },
  {
   "cell_type": "markdown",
   "metadata": {},
   "source": [
    "# Loading metadata"
   ]
  },
  {
   "cell_type": "code",
   "execution_count": 3,
   "metadata": {},
   "outputs": [],
   "source": [
    "# Specify data directory\n",
    "data_dir = os.path.join(os.path.dirname(os.getcwd()),'data')"
   ]
  },
  {
   "cell_type": "code",
   "execution_count": 10,
   "metadata": {},
   "outputs": [
    {
     "name": "stdout",
     "output_type": "stream",
     "text": [
      "203970\n",
      "{'category': ['Movies & TV', 'Movies'], 'title': 'Understanding Seizures and Epilepsy', 'rank': '886,503inMoviesTV(', 'main_cat': 'Movies & TV', 'asin': '0000695009'}\n"
     ]
    }
   ],
   "source": [
    "meta = []\n",
    "with gzip.open(data_dir +'/meta_Movies_and_TV.json.gz') as f:\n",
    "    for l in f:\n",
    "        meta.append(json.loads(l.strip()))\n",
    "    \n",
    "# total length of list, this number equals total number of products\n",
    "print(len(meta))\n",
    "\n",
    "# first row of the list\n",
    "print(meta[0])"
   ]
  },
  {
   "cell_type": "code",
   "execution_count": 11,
   "metadata": {},
   "outputs": [
    {
     "data": {
      "text/plain": [
       "{'category': ['Movies & TV',\n",
       "  'Genre for Featured Categories',\n",
       "  'Faith & Spirituality'],\n",
       " 'description': ['Sarah was the only woman in the Bible who had her youth renewedliterallyin her old age, such that two kings wanted her! She even conceived and bore Abraham a healthy son. Moses, at 120 years old, still had perfect eyesight and was as strong as a young man. Caleb, at the age of 85, declared that he was as strong as he had been at the age of 40, not just for daily activities, but also for war! And he proved it by claiming a whole mountain and driving out the giant inhabitants. So what are the secrets to their divine strength and youthfulness? The astounding answers and truths revealed by Joseph Prince will charge you up spiritually and give you the faith to receive a literal renewal of youth and the miracle you are believing God for! 3-DVD Album (This DVD Album contains 3 Sermons with 3 Discs) Disc 1: The Secrets Of Divine Strength And YouthfulnessSecrets of Sarah (Approx. 1hr 00min) Disc 2: The Secrets Of Divine Strength And YouthfulnessThe Secret Of Moses (Approx. 1hr 15min) Disc 3: The Secrets Of Divine Strength And YouthfulnessThe Secret Of Caleb (Approx. 57min)',\n",
       "  'With more than two decades of full-time ministry behind him, Pastor Joseph Prince is today a leading voice in proclaiming the gospel of grace around the world through his teaching resources and television ministry. A highly sought-after conference speaker, Pastor Prince has impacted church leaders internationally by preaching the unadulterated gospel of Jesus with boldness. He is known for teaching Gods Word in a fresh, practical and revelatory way that always unveils Jesus. His humorous, dynamic and engaging style of preaching has also endeared him to a wide spectrum of viewers who tune in to his daily television programme, Destined To Reign. This broadcast currently reaches millions of homes across North America, Europe, Africa, Australia and Israel on both secular and Christian networks.'],\n",
       " 'title': 'The Secrets of Divine Strength And Youthfulness Album  NTSC',\n",
       " 'image': ['https://images-na.ssl-images-amazon.com/images/I/51AJOic9WAL._SX38_SY50_CR,0,0,38,50_.jpg'],\n",
       " 'brand': 'Joseph Prince',\n",
       " 'rank': '359,382inMoviesTV(',\n",
       " 'main_cat': 'Movies & TV',\n",
       " 'price': '$29.81',\n",
       " 'asin': '0020110006'}"
      ]
     },
     "execution_count": 11,
     "metadata": {},
     "output_type": "execute_result"
    }
   ],
   "source": [
    "meta[43]"
   ]
  },
  {
   "cell_type": "code",
   "execution_count": null,
   "metadata": {},
   "outputs": [],
   "source": []
  },
  {
   "cell_type": "code",
   "execution_count": 12,
   "metadata": {},
   "outputs": [],
   "source": [
    "meta_df = pd.DataFrame(meta)"
   ]
  },
  {
   "cell_type": "code",
   "execution_count": 13,
   "metadata": {},
   "outputs": [
    {
     "data": {
      "text/html": [
       "<div>\n",
       "<style scoped>\n",
       "    .dataframe tbody tr th:only-of-type {\n",
       "        vertical-align: middle;\n",
       "    }\n",
       "\n",
       "    .dataframe tbody tr th {\n",
       "        vertical-align: top;\n",
       "    }\n",
       "\n",
       "    .dataframe thead th {\n",
       "        text-align: right;\n",
       "    }\n",
       "</style>\n",
       "<table border=\"1\" class=\"dataframe\">\n",
       "  <thead>\n",
       "    <tr style=\"text-align: right;\">\n",
       "      <th></th>\n",
       "      <th>category</th>\n",
       "      <th>title</th>\n",
       "      <th>rank</th>\n",
       "      <th>main_cat</th>\n",
       "      <th>asin</th>\n",
       "      <th>image</th>\n",
       "      <th>description</th>\n",
       "      <th>brand</th>\n",
       "      <th>also_buy</th>\n",
       "      <th>also_view</th>\n",
       "      <th>price</th>\n",
       "      <th>details</th>\n",
       "      <th>feature</th>\n",
       "      <th>date</th>\n",
       "      <th>tech1</th>\n",
       "    </tr>\n",
       "  </thead>\n",
       "  <tbody>\n",
       "    <tr>\n",
       "      <th>0</th>\n",
       "      <td>[Movies &amp; TV, Movies]</td>\n",
       "      <td>Understanding Seizures and Epilepsy</td>\n",
       "      <td>886,503inMoviesTV(</td>\n",
       "      <td>Movies &amp; TV</td>\n",
       "      <td>0000695009</td>\n",
       "      <td>NaN</td>\n",
       "      <td>NaN</td>\n",
       "      <td>NaN</td>\n",
       "      <td>NaN</td>\n",
       "      <td>NaN</td>\n",
       "      <td>NaN</td>\n",
       "      <td>NaN</td>\n",
       "      <td>NaN</td>\n",
       "      <td>NaN</td>\n",
       "      <td>NaN</td>\n",
       "    </tr>\n",
       "    <tr>\n",
       "      <th>1</th>\n",
       "      <td>[Movies &amp; TV, Movies]</td>\n",
       "      <td>Spirit Led—Moving By Grace In The Holy Spirit'...</td>\n",
       "      <td>342,688inMoviesTV(</td>\n",
       "      <td>Movies &amp; TV</td>\n",
       "      <td>0000791156</td>\n",
       "      <td>[https://images-na.ssl-images-amazon.com/image...</td>\n",
       "      <td>NaN</td>\n",
       "      <td>NaN</td>\n",
       "      <td>NaN</td>\n",
       "      <td>NaN</td>\n",
       "      <td>NaN</td>\n",
       "      <td>NaN</td>\n",
       "      <td>NaN</td>\n",
       "      <td>NaN</td>\n",
       "      <td>NaN</td>\n",
       "    </tr>\n",
       "    <tr>\n",
       "      <th>2</th>\n",
       "      <td>[Movies &amp; TV, Movies]</td>\n",
       "      <td>My Fair Pastry (Good Eats Vol. 9)</td>\n",
       "      <td>370,026inMoviesTV(</td>\n",
       "      <td>Movies &amp; TV</td>\n",
       "      <td>0000143529</td>\n",
       "      <td>[https://images-na.ssl-images-amazon.com/image...</td>\n",
       "      <td>[Disc 1: Flour Power (Scones; Shortcakes; Sout...</td>\n",
       "      <td>Alton Brown</td>\n",
       "      <td>NaN</td>\n",
       "      <td>NaN</td>\n",
       "      <td>NaN</td>\n",
       "      <td>NaN</td>\n",
       "      <td>NaN</td>\n",
       "      <td>NaN</td>\n",
       "      <td>NaN</td>\n",
       "    </tr>\n",
       "    <tr>\n",
       "      <th>3</th>\n",
       "      <td>[Movies &amp; TV, Movies]</td>\n",
       "      <td>Barefoot Contessa (with Ina Garten), Entertain...</td>\n",
       "      <td>342,914inMoviesTV(</td>\n",
       "      <td>Movies &amp; TV</td>\n",
       "      <td>0000143588</td>\n",
       "      <td>NaN</td>\n",
       "      <td>[Barefoot Contessa Volume 2: On these three di...</td>\n",
       "      <td>Ina Garten</td>\n",
       "      <td>[B002I5GNW4, B005WXPVMM, B009UY3W8O, B00N27ID1...</td>\n",
       "      <td>[B002I5GNW4, 0804187045, B009UY3W8O, 060960219...</td>\n",
       "      <td>$74.95</td>\n",
       "      <td>NaN</td>\n",
       "      <td>NaN</td>\n",
       "      <td>NaN</td>\n",
       "      <td>NaN</td>\n",
       "    </tr>\n",
       "    <tr>\n",
       "      <th>4</th>\n",
       "      <td>[Movies &amp; TV, Movies]</td>\n",
       "      <td>Rise and Swine (Good Eats Vol. 7)</td>\n",
       "      <td>351,684inMoviesTV(</td>\n",
       "      <td>Movies &amp; TV</td>\n",
       "      <td>0000143502</td>\n",
       "      <td>[https://images-na.ssl-images-amazon.com/image...</td>\n",
       "      <td>[Rise and Swine (Good Eats Vol. 7) includes bo...</td>\n",
       "      <td>Alton Brown</td>\n",
       "      <td>[B000P1CKES, B000NR4CRM]</td>\n",
       "      <td>[B0015SVNXY]</td>\n",
       "      <td>NaN</td>\n",
       "      <td>NaN</td>\n",
       "      <td>NaN</td>\n",
       "      <td>NaN</td>\n",
       "      <td>NaN</td>\n",
       "    </tr>\n",
       "  </tbody>\n",
       "</table>\n",
       "</div>"
      ],
      "text/plain": [
       "                category                                              title  \\\n",
       "0  [Movies & TV, Movies]                Understanding Seizures and Epilepsy   \n",
       "1  [Movies & TV, Movies]  Spirit Led—Moving By Grace In The Holy Spirit'...   \n",
       "2  [Movies & TV, Movies]                  My Fair Pastry (Good Eats Vol. 9)   \n",
       "3  [Movies & TV, Movies]  Barefoot Contessa (with Ina Garten), Entertain...   \n",
       "4  [Movies & TV, Movies]                  Rise and Swine (Good Eats Vol. 7)   \n",
       "\n",
       "                 rank     main_cat        asin  \\\n",
       "0  886,503inMoviesTV(  Movies & TV  0000695009   \n",
       "1  342,688inMoviesTV(  Movies & TV  0000791156   \n",
       "2  370,026inMoviesTV(  Movies & TV  0000143529   \n",
       "3  342,914inMoviesTV(  Movies & TV  0000143588   \n",
       "4  351,684inMoviesTV(  Movies & TV  0000143502   \n",
       "\n",
       "                                               image  \\\n",
       "0                                                NaN   \n",
       "1  [https://images-na.ssl-images-amazon.com/image...   \n",
       "2  [https://images-na.ssl-images-amazon.com/image...   \n",
       "3                                                NaN   \n",
       "4  [https://images-na.ssl-images-amazon.com/image...   \n",
       "\n",
       "                                         description        brand  \\\n",
       "0                                                NaN          NaN   \n",
       "1                                                NaN          NaN   \n",
       "2  [Disc 1: Flour Power (Scones; Shortcakes; Sout...  Alton Brown   \n",
       "3  [Barefoot Contessa Volume 2: On these three di...   Ina Garten   \n",
       "4  [Rise and Swine (Good Eats Vol. 7) includes bo...  Alton Brown   \n",
       "\n",
       "                                            also_buy  \\\n",
       "0                                                NaN   \n",
       "1                                                NaN   \n",
       "2                                                NaN   \n",
       "3  [B002I5GNW4, B005WXPVMM, B009UY3W8O, B00N27ID1...   \n",
       "4                           [B000P1CKES, B000NR4CRM]   \n",
       "\n",
       "                                           also_view   price details feature  \\\n",
       "0                                                NaN     NaN     NaN     NaN   \n",
       "1                                                NaN     NaN     NaN     NaN   \n",
       "2                                                NaN     NaN     NaN     NaN   \n",
       "3  [B002I5GNW4, 0804187045, B009UY3W8O, 060960219...  $74.95     NaN     NaN   \n",
       "4                                       [B0015SVNXY]     NaN     NaN     NaN   \n",
       "\n",
       "  date tech1  \n",
       "0  NaN   NaN  \n",
       "1  NaN   NaN  \n",
       "2  NaN   NaN  \n",
       "3  NaN   NaN  \n",
       "4  NaN   NaN  "
      ]
     },
     "execution_count": 13,
     "metadata": {},
     "output_type": "execute_result"
    }
   ],
   "source": [
    "meta_df.head()"
   ]
  },
  {
   "cell_type": "code",
   "execution_count": 14,
   "metadata": {},
   "outputs": [
    {
     "data": {
      "text/plain": [
       "(203970, 15)"
      ]
     },
     "execution_count": 14,
     "metadata": {},
     "output_type": "execute_result"
    }
   ],
   "source": [
    "meta_df.shape"
   ]
  },
  {
   "cell_type": "code",
   "execution_count": null,
   "metadata": {},
   "outputs": [],
   "source": []
  },
  {
   "cell_type": "code",
   "execution_count": null,
   "metadata": {},
   "outputs": [],
   "source": []
  },
  {
   "cell_type": "markdown",
   "metadata": {},
   "source": [
    "# Loading Reviews"
   ]
  },
  {
   "cell_type": "code",
   "execution_count": 16,
   "metadata": {},
   "outputs": [],
   "source": [
    "reviews = []\n",
    "for line in open(data_dir + '/Movies_and_TV_5.json', 'r'):\n",
    "    reviews.append(json.loads(line))"
   ]
  },
  {
   "cell_type": "code",
   "execution_count": 8,
   "metadata": {},
   "outputs": [
    {
     "data": {
      "text/plain": [
       "{'overall': 5.0,\n",
       " 'verified': True,\n",
       " 'reviewTime': '10 17, 2007',\n",
       " 'reviewerID': 'A3TNYNA2360NPA',\n",
       " 'asin': '000503860X',\n",
       " 'style': {'Format:': ' DVD'},\n",
       " 'reviewerName': 'Stanley  C. Sargent',\n",
       " 'reviewText': 'I\\'ve loved X since I first saw them here in San Francisco with, I believe, Devo and Romeo Void.  Romeo Void was a disaster due to the tiny outfit Deborah squeezed her huge body into; the audience couldn\\'t stand to look at her even when the music was good. Devo was quite good. Then X came on stage and it was like hearing a great music system play compared to a tinny radio\\'s sound. Man, they were great and they, unlike 99% of the other \"new wave/punk\" bands of the era were pros.  They had it down and played it up. I loved them! Watching this excellent reunion video (yes, Billy Zoom still has that same perpetual, inane smile on his face while playing), I was surprised to see very much the same show I saw all those years ago, with some extra songs that came out later, that is. The band\\'s still electrifying. I\\'d like to see them \"live\" again, but until then, this video is the next best thing. It\\'s well filmed and has a great selection of their best songs. Sure, they aren\\'t as \"pretty\" as they used to be, but before you say too much, check your rearview mirror to see how you look now compared to 20 some odd years ago. Then, once humbled, go buy this CD. You will love it!',\n",
       " 'summary': 'A Revival to match the early shows by a great band',\n",
       " 'unixReviewTime': 1192579200}"
      ]
     },
     "execution_count": 8,
     "metadata": {},
     "output_type": "execute_result"
    }
   ],
   "source": [
    "reviews[5]"
   ]
  },
  {
   "cell_type": "code",
   "execution_count": 17,
   "metadata": {},
   "outputs": [],
   "source": [
    "reviews_df = pd.DataFrame(reviews)"
   ]
  },
  {
   "cell_type": "code",
   "execution_count": 18,
   "metadata": {},
   "outputs": [
    {
     "data": {
      "text/plain": [
       "(3410019, 12)"
      ]
     },
     "execution_count": 18,
     "metadata": {},
     "output_type": "execute_result"
    }
   ],
   "source": [
    "reviews_df.shape"
   ]
  },
  {
   "cell_type": "code",
   "execution_count": 19,
   "metadata": {},
   "outputs": [
    {
     "data": {
      "text/html": [
       "<div>\n",
       "<style scoped>\n",
       "    .dataframe tbody tr th:only-of-type {\n",
       "        vertical-align: middle;\n",
       "    }\n",
       "\n",
       "    .dataframe tbody tr th {\n",
       "        vertical-align: top;\n",
       "    }\n",
       "\n",
       "    .dataframe thead th {\n",
       "        text-align: right;\n",
       "    }\n",
       "</style>\n",
       "<table border=\"1\" class=\"dataframe\">\n",
       "  <thead>\n",
       "    <tr style=\"text-align: right;\">\n",
       "      <th></th>\n",
       "      <th>overall</th>\n",
       "      <th>verified</th>\n",
       "      <th>reviewTime</th>\n",
       "      <th>reviewerID</th>\n",
       "      <th>asin</th>\n",
       "      <th>style</th>\n",
       "      <th>reviewerName</th>\n",
       "      <th>reviewText</th>\n",
       "      <th>summary</th>\n",
       "      <th>unixReviewTime</th>\n",
       "      <th>vote</th>\n",
       "      <th>image</th>\n",
       "    </tr>\n",
       "  </thead>\n",
       "  <tbody>\n",
       "    <tr>\n",
       "      <th>0</th>\n",
       "      <td>5.0</td>\n",
       "      <td>True</td>\n",
       "      <td>11 9, 2012</td>\n",
       "      <td>A2M1CU2IRZG0K9</td>\n",
       "      <td>0005089549</td>\n",
       "      <td>{'Format:': ' VHS Tape'}</td>\n",
       "      <td>Terri</td>\n",
       "      <td>So sorry I didn't purchase this years ago when...</td>\n",
       "      <td>Amazing!</td>\n",
       "      <td>1352419200</td>\n",
       "      <td>NaN</td>\n",
       "      <td>NaN</td>\n",
       "    </tr>\n",
       "    <tr>\n",
       "      <th>1</th>\n",
       "      <td>5.0</td>\n",
       "      <td>True</td>\n",
       "      <td>12 30, 2011</td>\n",
       "      <td>AFTUJYISOFHY6</td>\n",
       "      <td>0005089549</td>\n",
       "      <td>{'Format:': ' VHS Tape'}</td>\n",
       "      <td>Melissa D. Abercrombie</td>\n",
       "      <td>Believe me when I tell you that you will recei...</td>\n",
       "      <td>Great Gospel VHS of the Cathedrals!</td>\n",
       "      <td>1325203200</td>\n",
       "      <td>NaN</td>\n",
       "      <td>NaN</td>\n",
       "    </tr>\n",
       "    <tr>\n",
       "      <th>2</th>\n",
       "      <td>5.0</td>\n",
       "      <td>True</td>\n",
       "      <td>04 21, 2005</td>\n",
       "      <td>A3JVF9Y53BEOGC</td>\n",
       "      <td>000503860X</td>\n",
       "      <td>{'Format:': ' DVD'}</td>\n",
       "      <td>Anthony Thompson</td>\n",
       "      <td>I have seen X live many times, both in the ear...</td>\n",
       "      <td>A great document of a great band</td>\n",
       "      <td>1114041600</td>\n",
       "      <td>11</td>\n",
       "      <td>NaN</td>\n",
       "    </tr>\n",
       "    <tr>\n",
       "      <th>3</th>\n",
       "      <td>5.0</td>\n",
       "      <td>True</td>\n",
       "      <td>04 6, 2005</td>\n",
       "      <td>A12VPEOEZS1KTC</td>\n",
       "      <td>000503860X</td>\n",
       "      <td>{'Format:': ' DVD'}</td>\n",
       "      <td>JadeRain</td>\n",
       "      <td>I was so excited for this!  Finally, a live co...</td>\n",
       "      <td>YES!!  X LIVE!!</td>\n",
       "      <td>1112745600</td>\n",
       "      <td>5</td>\n",
       "      <td>NaN</td>\n",
       "    </tr>\n",
       "    <tr>\n",
       "      <th>4</th>\n",
       "      <td>5.0</td>\n",
       "      <td>True</td>\n",
       "      <td>12 3, 2010</td>\n",
       "      <td>ATLZNVLYKP9AZ</td>\n",
       "      <td>000503860X</td>\n",
       "      <td>{'Format:': ' DVD'}</td>\n",
       "      <td>T. Fisher</td>\n",
       "      <td>X is one of the best punk bands ever. I don't ...</td>\n",
       "      <td>X have still got it</td>\n",
       "      <td>1291334400</td>\n",
       "      <td>5</td>\n",
       "      <td>NaN</td>\n",
       "    </tr>\n",
       "  </tbody>\n",
       "</table>\n",
       "</div>"
      ],
      "text/plain": [
       "   overall  verified   reviewTime      reviewerID        asin  \\\n",
       "0      5.0      True   11 9, 2012  A2M1CU2IRZG0K9  0005089549   \n",
       "1      5.0      True  12 30, 2011   AFTUJYISOFHY6  0005089549   \n",
       "2      5.0      True  04 21, 2005  A3JVF9Y53BEOGC  000503860X   \n",
       "3      5.0      True   04 6, 2005  A12VPEOEZS1KTC  000503860X   \n",
       "4      5.0      True   12 3, 2010   ATLZNVLYKP9AZ  000503860X   \n",
       "\n",
       "                      style            reviewerName  \\\n",
       "0  {'Format:': ' VHS Tape'}                   Terri   \n",
       "1  {'Format:': ' VHS Tape'}  Melissa D. Abercrombie   \n",
       "2       {'Format:': ' DVD'}        Anthony Thompson   \n",
       "3       {'Format:': ' DVD'}                JadeRain   \n",
       "4       {'Format:': ' DVD'}               T. Fisher   \n",
       "\n",
       "                                          reviewText  \\\n",
       "0  So sorry I didn't purchase this years ago when...   \n",
       "1  Believe me when I tell you that you will recei...   \n",
       "2  I have seen X live many times, both in the ear...   \n",
       "3  I was so excited for this!  Finally, a live co...   \n",
       "4  X is one of the best punk bands ever. I don't ...   \n",
       "\n",
       "                               summary  unixReviewTime vote image  \n",
       "0                             Amazing!      1352419200  NaN   NaN  \n",
       "1  Great Gospel VHS of the Cathedrals!      1325203200  NaN   NaN  \n",
       "2     A great document of a great band      1114041600   11   NaN  \n",
       "3                      YES!!  X LIVE!!      1112745600    5   NaN  \n",
       "4                  X have still got it      1291334400    5   NaN  "
      ]
     },
     "execution_count": 19,
     "metadata": {},
     "output_type": "execute_result"
    }
   ],
   "source": [
    "reviews_df.head()"
   ]
  },
  {
   "cell_type": "code",
   "execution_count": 14,
   "metadata": {},
   "outputs": [
    {
     "data": {
      "text/plain": [
       "{'Format:': ' DVD'}                   1645586\n",
       "{'Format:': ' Amazon Video'}          1027966\n",
       "{'Format:': ' Blu-ray'}                335181\n",
       "{'Format:': ' Prime Video'}            158950\n",
       "{'Format:': ' VHS Tape'}                61821\n",
       "{'Format:': ' HD DVD'}                   1475\n",
       "{'Format:': ' DVD-R'}                    1428\n",
       "{'Format:': ' Theatrical Release'}        801\n",
       "{'Format:': ' Audio CD'}                  657\n",
       "{'Format:': ' DVD-ROM'}                   474\n",
       "Name: style, dtype: int64"
      ]
     },
     "execution_count": 14,
     "metadata": {},
     "output_type": "execute_result"
    }
   ],
   "source": [
    "reviews_df['style'].value_counts()[:10]"
   ]
  },
  {
   "cell_type": "code",
   "execution_count": 134,
   "metadata": {},
   "outputs": [
    {
     "data": {
      "text/plain": [
       "Index([{'Format:': ' DVD'}, {'Format:': ' Amazon Video'},\n",
       "       {'Format:': ' Blu-ray'}],\n",
       "      dtype='object')"
      ]
     },
     "execution_count": 134,
     "metadata": {},
     "output_type": "execute_result"
    }
   ],
   "source": [
    "format_index = reviews_df['style'].value_counts()[:3].index\n",
    "format_index"
   ]
  },
  {
   "cell_type": "markdown",
   "metadata": {},
   "source": [
    "# Loading Ratings"
   ]
  },
  {
   "cell_type": "code",
   "execution_count": 135,
   "metadata": {},
   "outputs": [],
   "source": [
    "ratings = pd.read_csv(data_dir + '/Movies_and_TV.csv', names = ['asin','user','rating','timestamp'])\n",
    "ratings.drop('timestamp', axis = 1, inplace = True)"
   ]
  },
  {
   "cell_type": "code",
   "execution_count": 136,
   "metadata": {},
   "outputs": [
    {
     "data": {
      "text/html": [
       "<div>\n",
       "<style scoped>\n",
       "    .dataframe tbody tr th:only-of-type {\n",
       "        vertical-align: middle;\n",
       "    }\n",
       "\n",
       "    .dataframe tbody tr th {\n",
       "        vertical-align: top;\n",
       "    }\n",
       "\n",
       "    .dataframe thead th {\n",
       "        text-align: right;\n",
       "    }\n",
       "</style>\n",
       "<table border=\"1\" class=\"dataframe\">\n",
       "  <thead>\n",
       "    <tr style=\"text-align: right;\">\n",
       "      <th></th>\n",
       "      <th>asin</th>\n",
       "      <th>user</th>\n",
       "      <th>rating</th>\n",
       "    </tr>\n",
       "  </thead>\n",
       "  <tbody>\n",
       "    <tr>\n",
       "      <th>0</th>\n",
       "      <td>0001527665</td>\n",
       "      <td>A3478QRKQDOPQ2</td>\n",
       "      <td>5.0</td>\n",
       "    </tr>\n",
       "    <tr>\n",
       "      <th>1</th>\n",
       "      <td>0001527665</td>\n",
       "      <td>A2VHSG6TZHU1OB</td>\n",
       "      <td>5.0</td>\n",
       "    </tr>\n",
       "    <tr>\n",
       "      <th>2</th>\n",
       "      <td>0001527665</td>\n",
       "      <td>A23EJWOW1TLENE</td>\n",
       "      <td>5.0</td>\n",
       "    </tr>\n",
       "    <tr>\n",
       "      <th>3</th>\n",
       "      <td>0001527665</td>\n",
       "      <td>A1KM9FNEJ8Q171</td>\n",
       "      <td>5.0</td>\n",
       "    </tr>\n",
       "    <tr>\n",
       "      <th>4</th>\n",
       "      <td>0001527665</td>\n",
       "      <td>A38LY2SSHVHRYB</td>\n",
       "      <td>4.0</td>\n",
       "    </tr>\n",
       "  </tbody>\n",
       "</table>\n",
       "</div>"
      ],
      "text/plain": [
       "         asin            user  rating\n",
       "0  0001527665  A3478QRKQDOPQ2     5.0\n",
       "1  0001527665  A2VHSG6TZHU1OB     5.0\n",
       "2  0001527665  A23EJWOW1TLENE     5.0\n",
       "3  0001527665  A1KM9FNEJ8Q171     5.0\n",
       "4  0001527665  A38LY2SSHVHRYB     4.0"
      ]
     },
     "execution_count": 136,
     "metadata": {},
     "output_type": "execute_result"
    }
   ],
   "source": [
    "ratings.head()"
   ]
  },
  {
   "cell_type": "code",
   "execution_count": 137,
   "metadata": {},
   "outputs": [
    {
     "data": {
      "text/plain": [
       "(8765568, 3)"
      ]
     },
     "execution_count": 137,
     "metadata": {},
     "output_type": "execute_result"
    }
   ],
   "source": [
    "ratings.shape"
   ]
  },
  {
   "cell_type": "code",
   "execution_count": 174,
   "metadata": {},
   "outputs": [
    {
     "name": "stdout",
     "output_type": "stream",
     "text": [
      "182032\n",
      "3826085\n",
      "5\n"
     ]
    }
   ],
   "source": [
    "print(ratings['asin'].nunique())\n",
    "print(ratings['user'].nunique())\n",
    "print(ratings['rating'].nunique())"
   ]
  },
  {
   "cell_type": "markdown",
   "metadata": {},
   "source": [
    "# MERGED Reviews with Titles"
   ]
  },
  {
   "cell_type": "code",
   "execution_count": 139,
   "metadata": {},
   "outputs": [],
   "source": [
    "merged_df = pd.merge(reviews_df, meta_df[['title', 'rank', 'main_cat', 'asin']], how = 'inner', \n",
    "         left_on='asin', right_on = 'asin')"
   ]
  },
  {
   "cell_type": "code",
   "execution_count": 140,
   "metadata": {},
   "outputs": [
    {
     "data": {
      "text/html": [
       "<div>\n",
       "<style scoped>\n",
       "    .dataframe tbody tr th:only-of-type {\n",
       "        vertical-align: middle;\n",
       "    }\n",
       "\n",
       "    .dataframe tbody tr th {\n",
       "        vertical-align: top;\n",
       "    }\n",
       "\n",
       "    .dataframe thead th {\n",
       "        text-align: right;\n",
       "    }\n",
       "</style>\n",
       "<table border=\"1\" class=\"dataframe\">\n",
       "  <thead>\n",
       "    <tr style=\"text-align: right;\">\n",
       "      <th></th>\n",
       "      <th>overall</th>\n",
       "      <th>verified</th>\n",
       "      <th>reviewTime</th>\n",
       "      <th>reviewerID</th>\n",
       "      <th>asin</th>\n",
       "      <th>style</th>\n",
       "      <th>reviewerName</th>\n",
       "      <th>reviewText</th>\n",
       "      <th>summary</th>\n",
       "      <th>unixReviewTime</th>\n",
       "      <th>vote</th>\n",
       "      <th>image</th>\n",
       "      <th>title</th>\n",
       "      <th>rank</th>\n",
       "      <th>main_cat</th>\n",
       "    </tr>\n",
       "  </thead>\n",
       "  <tbody>\n",
       "    <tr>\n",
       "      <th>0</th>\n",
       "      <td>5.0</td>\n",
       "      <td>True</td>\n",
       "      <td>11 9, 2012</td>\n",
       "      <td>A2M1CU2IRZG0K9</td>\n",
       "      <td>0005089549</td>\n",
       "      <td>{'Format:': ' VHS Tape'}</td>\n",
       "      <td>Terri</td>\n",
       "      <td>So sorry I didn't purchase this years ago when...</td>\n",
       "      <td>Amazing!</td>\n",
       "      <td>1352419200</td>\n",
       "      <td>NaN</td>\n",
       "      <td>NaN</td>\n",
       "      <td>Cathedral Quartet: A Reunion VHS</td>\n",
       "      <td>679,734inMoviesTV(</td>\n",
       "      <td>Movies &amp; TV</td>\n",
       "    </tr>\n",
       "    <tr>\n",
       "      <th>1</th>\n",
       "      <td>5.0</td>\n",
       "      <td>True</td>\n",
       "      <td>12 30, 2011</td>\n",
       "      <td>AFTUJYISOFHY6</td>\n",
       "      <td>0005089549</td>\n",
       "      <td>{'Format:': ' VHS Tape'}</td>\n",
       "      <td>Melissa D. Abercrombie</td>\n",
       "      <td>Believe me when I tell you that you will recei...</td>\n",
       "      <td>Great Gospel VHS of the Cathedrals!</td>\n",
       "      <td>1325203200</td>\n",
       "      <td>NaN</td>\n",
       "      <td>NaN</td>\n",
       "      <td>Cathedral Quartet: A Reunion VHS</td>\n",
       "      <td>679,734inMoviesTV(</td>\n",
       "      <td>Movies &amp; TV</td>\n",
       "    </tr>\n",
       "    <tr>\n",
       "      <th>2</th>\n",
       "      <td>2.0</td>\n",
       "      <td>False</td>\n",
       "      <td>09 5, 2014</td>\n",
       "      <td>A2EHA554JUGZWL</td>\n",
       "      <td>0005089549</td>\n",
       "      <td>{'Format:': ' Audio CD'}</td>\n",
       "      <td>Lura</td>\n",
       "      <td>NOt a great tape but the quality is good and f...</td>\n",
       "      <td>Two Stars</td>\n",
       "      <td>1409875200</td>\n",
       "      <td>NaN</td>\n",
       "      <td>NaN</td>\n",
       "      <td>Cathedral Quartet: A Reunion VHS</td>\n",
       "      <td>679,734inMoviesTV(</td>\n",
       "      <td>Movies &amp; TV</td>\n",
       "    </tr>\n",
       "    <tr>\n",
       "      <th>3</th>\n",
       "      <td>5.0</td>\n",
       "      <td>True</td>\n",
       "      <td>07 9, 2014</td>\n",
       "      <td>AFUHAIDO20GKI</td>\n",
       "      <td>0005089549</td>\n",
       "      <td>{'Format:': ' VHS Tape'}</td>\n",
       "      <td>David Mcclanahan</td>\n",
       "      <td>It met all of my expectations.  I was well sat...</td>\n",
       "      <td>I was well satisfied with it</td>\n",
       "      <td>1404864000</td>\n",
       "      <td>NaN</td>\n",
       "      <td>NaN</td>\n",
       "      <td>Cathedral Quartet: A Reunion VHS</td>\n",
       "      <td>679,734inMoviesTV(</td>\n",
       "      <td>Movies &amp; TV</td>\n",
       "    </tr>\n",
       "    <tr>\n",
       "      <th>4</th>\n",
       "      <td>5.0</td>\n",
       "      <td>True</td>\n",
       "      <td>04 21, 2005</td>\n",
       "      <td>A3JVF9Y53BEOGC</td>\n",
       "      <td>000503860X</td>\n",
       "      <td>{'Format:': ' DVD'}</td>\n",
       "      <td>Anthony Thompson</td>\n",
       "      <td>I have seen X live many times, both in the ear...</td>\n",
       "      <td>A great document of a great band</td>\n",
       "      <td>1114041600</td>\n",
       "      <td>11</td>\n",
       "      <td>NaN</td>\n",
       "      <td>Chapter X Live [VHS]</td>\n",
       "      <td>1,007,436inMoviesTV(</td>\n",
       "      <td>Movies &amp; TV</td>\n",
       "    </tr>\n",
       "  </tbody>\n",
       "</table>\n",
       "</div>"
      ],
      "text/plain": [
       "   overall  verified   reviewTime      reviewerID        asin  \\\n",
       "0      5.0      True   11 9, 2012  A2M1CU2IRZG0K9  0005089549   \n",
       "1      5.0      True  12 30, 2011   AFTUJYISOFHY6  0005089549   \n",
       "2      2.0     False   09 5, 2014  A2EHA554JUGZWL  0005089549   \n",
       "3      5.0      True   07 9, 2014   AFUHAIDO20GKI  0005089549   \n",
       "4      5.0      True  04 21, 2005  A3JVF9Y53BEOGC  000503860X   \n",
       "\n",
       "                      style            reviewerName  \\\n",
       "0  {'Format:': ' VHS Tape'}                   Terri   \n",
       "1  {'Format:': ' VHS Tape'}  Melissa D. Abercrombie   \n",
       "2  {'Format:': ' Audio CD'}                    Lura   \n",
       "3  {'Format:': ' VHS Tape'}        David Mcclanahan   \n",
       "4       {'Format:': ' DVD'}        Anthony Thompson   \n",
       "\n",
       "                                          reviewText  \\\n",
       "0  So sorry I didn't purchase this years ago when...   \n",
       "1  Believe me when I tell you that you will recei...   \n",
       "2  NOt a great tape but the quality is good and f...   \n",
       "3  It met all of my expectations.  I was well sat...   \n",
       "4  I have seen X live many times, both in the ear...   \n",
       "\n",
       "                               summary  unixReviewTime vote image  \\\n",
       "0                             Amazing!      1352419200  NaN   NaN   \n",
       "1  Great Gospel VHS of the Cathedrals!      1325203200  NaN   NaN   \n",
       "2                            Two Stars      1409875200  NaN   NaN   \n",
       "3         I was well satisfied with it      1404864000  NaN   NaN   \n",
       "4     A great document of a great band      1114041600   11   NaN   \n",
       "\n",
       "                              title                  rank     main_cat  \n",
       "0  Cathedral Quartet: A Reunion VHS    679,734inMoviesTV(  Movies & TV  \n",
       "1  Cathedral Quartet: A Reunion VHS    679,734inMoviesTV(  Movies & TV  \n",
       "2  Cathedral Quartet: A Reunion VHS    679,734inMoviesTV(  Movies & TV  \n",
       "3  Cathedral Quartet: A Reunion VHS    679,734inMoviesTV(  Movies & TV  \n",
       "4              Chapter X Live [VHS]  1,007,436inMoviesTV(  Movies & TV  "
      ]
     },
     "execution_count": 140,
     "metadata": {},
     "output_type": "execute_result"
    }
   ],
   "source": [
    "merged_df.head()"
   ]
  },
  {
   "cell_type": "code",
   "execution_count": 141,
   "metadata": {},
   "outputs": [
    {
     "name": "stdout",
     "output_type": "stream",
     "text": [
      "(3856721, 15)\n",
      "60175\n",
      "58846\n"
     ]
    }
   ],
   "source": [
    "print(merged_df.shape)\n",
    "print(merged_df.asin.nunique())\n",
    "print(merged_df.title.nunique())"
   ]
  },
  {
   "cell_type": "code",
   "execution_count": 142,
   "metadata": {},
   "outputs": [
    {
     "name": "stdout",
     "output_type": "stream",
     "text": [
      "297529\n"
     ]
    }
   ],
   "source": [
    "print(merged_df.reviewerID.nunique())"
   ]
  },
  {
   "cell_type": "code",
   "execution_count": 143,
   "metadata": {},
   "outputs": [
    {
     "data": {
      "text/plain": [
       "Movies & TV                 3855384\n",
       "Sports & Outdoors               507\n",
       "Toys & Games                    256\n",
       "All Electronics                 171\n",
       "Books                           111\n",
       "Amazon Home                      92\n",
       "Industrial & Scientific          68\n",
       "Tools & Home Improvement          6\n",
       "Arts, Crafts & Sewing             5\n",
       "Name: main_cat, dtype: int64"
      ]
     },
     "execution_count": 143,
     "metadata": {},
     "output_type": "execute_result"
    }
   ],
   "source": [
    "merged_df.main_cat.value_counts()"
   ]
  },
  {
   "cell_type": "code",
   "execution_count": 144,
   "metadata": {},
   "outputs": [],
   "source": [
    "merged_df = merged_df[merged_df['main_cat']=='Movies & TV']"
   ]
  },
  {
   "cell_type": "markdown",
   "metadata": {},
   "source": [
    "## Titles"
   ]
  },
  {
   "cell_type": "code",
   "execution_count": 145,
   "metadata": {},
   "outputs": [
    {
     "data": {
      "text/plain": [
       "58795"
      ]
     },
     "execution_count": 145,
     "metadata": {},
     "output_type": "execute_result"
    }
   ],
   "source": [
    "merged_df['title'].nunique()"
   ]
  },
  {
   "cell_type": "markdown",
   "metadata": {},
   "source": [
    "There are almost 60,000 unique titles of movies and shows and other formara"
   ]
  },
  {
   "cell_type": "markdown",
   "metadata": {},
   "source": [
    "## Number of Reviews per Title"
   ]
  },
  {
   "cell_type": "code",
   "execution_count": 146,
   "metadata": {},
   "outputs": [
    {
     "data": {
      "text/plain": [
       "Band Of Brothers (DVD)                                                             11424\n",
       "Guardians of the Galaxy                                                             7195\n",
       "Guardians of the Galaxy [Blu-ray]                                                   7191\n",
       "Guardians Of The Galaxy Region Free                                                 7188\n",
       "John Adams                                                                          7061\n",
       "Lucy                                                                                6926\n",
       "Band of Brothers(Elite SC/BD+DCExp12-21)                                            5748\n",
       "Star Trek Into Darkness                                                             5472\n",
       "The Wire: Season 1                                                                  5164\n",
       "Blade Runner: The Final Cut                                                         4743\n",
       "The Lord Of The Rings: Trilogy                                                      4684\n",
       "The Martian                                                                         4500\n",
       "24: Season 1                                                                        4342\n",
       "Terminator, The                                                                     4220\n",
       "The Hunger Games: Catching Fire 2013                                                4169\n",
       "The Mummy                                                                           4164\n",
       "John Wick                                                                           4096\n",
       "Downton Abbey - Series 4                                                            4054\n",
       "Jack Reacher Combo                                                                  3981\n",
       "Doctor Thorne - Season 1 2015                                                       3871\n",
       "Jurassic World                                                                      3853\n",
       "The Lord of the Rings: The Fellowship of the Ring                                   3834\n",
       "The Big Lebowski VHS                                                                3726\n",
       "Moodtapes: Pacific Surf                                                             3685\n",
       "Kingsman: The Secret Service                                                        3680\n",
       "The Hunger Games (2 Disc) [Region 2] [UK Import]                                    3599\n",
       "The Lord of the Rings: The Return of the King                                       3442\n",
       "Skyfall                                                                             3430\n",
       "The Hobbit: The Battle of the Five Armies [DVD] [2015]                              3417\n",
       "Hobbit 3: The Battle of the Five Armies                                             3414\n",
       "The Hobbit: An Unexpected Journey                                                   3405\n",
       "American Sniper 2014                                                                3376\n",
       "The Captive Ryan Reynolds, Scott Speedman, Rosario Dawson (DVD)                     3293\n",
       "The white queenÂ StagioneÂ 01The white queenÂ StagioneÂ 01 [4 DVDs] [IT Import]     3283\n",
       "Gravity 2013  Region Free                                                           3279\n",
       "Mad Max : Fury Road - Edition limitée 3D - Coffret Voiture [Blu-ray]                3266\n",
       "Mad Max: Fury Road                                                                  3265\n",
       "Taken 2                                                                             3263\n",
       "No Country For Old Men                                                              3206\n",
       "Bone Tomahawk                                                                       3181\n",
       "The Hobbit: The Desolation of Smaug                                                 3155\n",
       "The Dark Knight Theatrical Release                                                  3134\n",
       "Wild                                                                                3073\n",
       "The Lord of the Rings - The Two Towers VHS                                          2924\n",
       "HERCULES                                                                            2896\n",
       "The Equalizer                                                                       2873\n",
       "Prometheus                                                                          2844\n",
       "Avatar Steelbook  Limited UK Edition                                                2821\n",
       "Harry Potter - Complete 8-Film Collection                                           2816\n",
       "X-Men - Apocalypse - The Cure/Come The Apocalypse VHS                               2790\n",
       "Name: title, dtype: int64"
      ]
     },
     "execution_count": 146,
     "metadata": {},
     "output_type": "execute_result"
    }
   ],
   "source": [
    "merged_df.title.value_counts()[:50]"
   ]
  },
  {
   "cell_type": "code",
   "execution_count": null,
   "metadata": {},
   "outputs": [],
   "source": []
  },
  {
   "cell_type": "code",
   "execution_count": 147,
   "metadata": {},
   "outputs": [
    {
     "data": {
      "text/plain": [
       "Band Of Brothers (DVD)                                                                               11424\n",
       "Guardians of the Galaxy                                                                               7195\n",
       "Guardians of the Galaxy [Blu-ray]                                                                     7191\n",
       "Guardians Of The Galaxy Region Free                                                                   7188\n",
       "John Adams                                                                                            7061\n",
       "                                                                                                     ...  \n",
       "Action Packed Movie Marathon: Volume 2 (Bamboo Gods & Iron Men, Bulletproof, Trackdown & Scorchy)       21\n",
       "Viva Pedro: The Almodovar Collection                                                                    21\n",
       "Clint Eastwood - The Collection                                                                         21\n",
       "David Searching VHS                                                                                     21\n",
       "Adventures of Marco Polo VHS                                                                            21\n",
       "Name: title, Length: 26749, dtype: int64"
      ]
     },
     "execution_count": 147,
     "metadata": {},
     "output_type": "execute_result"
    }
   ],
   "source": [
    "merged_df.title.value_counts()[merged_df.title.value_counts()>20]"
   ]
  },
  {
   "cell_type": "code",
   "execution_count": 148,
   "metadata": {},
   "outputs": [],
   "source": [
    "merged_df  = merged_df[merged_df['title'].str.len() < 200]"
   ]
  },
  {
   "cell_type": "code",
   "execution_count": 149,
   "metadata": {},
   "outputs": [
    {
     "name": "stdout",
     "output_type": "stream",
     "text": [
      "57548\n"
     ]
    }
   ],
   "source": [
    "print(merged_df.title.nunique())"
   ]
  },
  {
   "cell_type": "code",
   "execution_count": 150,
   "metadata": {
    "scrolled": true
   },
   "outputs": [
    {
     "data": {
      "text/plain": [
       "{'Format:': ' DVD'}             1858021\n",
       "{'Format:': ' Amazon Video'}    1121991\n",
       "{'Format:': ' Blu-ray'}          349693\n",
       "{'Format:': ' Prime Video'}      158928\n",
       "{'Format:': ' VHS Tape'}          73617\n",
       "Name: style, dtype: int64"
      ]
     },
     "execution_count": 150,
     "metadata": {},
     "output_type": "execute_result"
    }
   ],
   "source": [
    "merged_df['style'].value_counts()[:5]"
   ]
  },
  {
   "cell_type": "code",
   "execution_count": 151,
   "metadata": {},
   "outputs": [],
   "source": [
    "subset_df = merged_df[(merged_df['style']==({'Format:': ' DVD'})) | \n",
    "                      ( merged_df['style']==({'Format:': ' Amazon Video'})) |\n",
    "                     ( merged_df['style']==({'Format:': ' Blu-ray'})) |\n",
    "                     ( merged_df['style']==({'Format:': ' Prime Video'}))]"
   ]
  },
  {
   "cell_type": "code",
   "execution_count": 152,
   "metadata": {},
   "outputs": [
    {
     "name": "stdout",
     "output_type": "stream",
     "text": [
      "54274\n"
     ]
    }
   ],
   "source": [
    "print(subset_df.title.nunique())"
   ]
  },
  {
   "cell_type": "code",
   "execution_count": 153,
   "metadata": {},
   "outputs": [
    {
     "data": {
      "text/plain": [
       "Index(['Band Of Brothers (DVD)', 'Guardians of the Galaxy',\n",
       "       'Guardians of the Galaxy [Blu-ray]',\n",
       "       'Guardians Of The Galaxy Region Free', 'John Adams', 'Lucy',\n",
       "       'Band of Brothers(Elite SC/BD+DCExp12-21)', 'Star Trek Into Darkness',\n",
       "       'The Wire: Season 1', 'The Lord Of The Rings: Trilogy',\n",
       "       ...\n",
       "       'Sci-Fi Invasion - 50 Movie Pack: The Brother from Another Planet - The Crater Lake Monster - The Creeping Terror - Galaxina - Morons from Outer Space - Slipstream + 44 more!',\n",
       "       'Little House On The Prairie: A Merry Ingalls Christmas',\n",
       "       'The Best of Jack Benny', 'Masterpiece Mystery: Endeavour, Series 3',\n",
       "       'Black Widow', 'Veep: Season 4', 'Wolfcop', 'The Secret Garden',\n",
       "       'Strong Body, Ageless Body with Erin O'Brien', 'The Frogmen'],\n",
       "      dtype='object', length=6585)"
      ]
     },
     "execution_count": 153,
     "metadata": {},
     "output_type": "execute_result"
    }
   ],
   "source": [
    "index_populated = subset_df.title.value_counts()[subset_df.title.value_counts()>100].index\n",
    "index_populated"
   ]
  },
  {
   "cell_type": "code",
   "execution_count": 154,
   "metadata": {},
   "outputs": [
    {
     "data": {
      "text/plain": [
       "(3488633, 15)"
      ]
     },
     "execution_count": 154,
     "metadata": {},
     "output_type": "execute_result"
    }
   ],
   "source": [
    "subset_df.shape"
   ]
  },
  {
   "cell_type": "code",
   "execution_count": 155,
   "metadata": {},
   "outputs": [],
   "source": [
    "subset_df = subset_df[subset_df['title'].isin(index_populated)]"
   ]
  },
  {
   "cell_type": "code",
   "execution_count": 156,
   "metadata": {},
   "outputs": [
    {
     "data": {
      "text/plain": [
       "(2376655, 15)"
      ]
     },
     "execution_count": 156,
     "metadata": {},
     "output_type": "execute_result"
    }
   ],
   "source": [
    "subset_df.shape"
   ]
  },
  {
   "cell_type": "code",
   "execution_count": 157,
   "metadata": {},
   "outputs": [
    {
     "data": {
      "text/html": [
       "<div>\n",
       "<style scoped>\n",
       "    .dataframe tbody tr th:only-of-type {\n",
       "        vertical-align: middle;\n",
       "    }\n",
       "\n",
       "    .dataframe tbody tr th {\n",
       "        vertical-align: top;\n",
       "    }\n",
       "\n",
       "    .dataframe thead th {\n",
       "        text-align: right;\n",
       "    }\n",
       "</style>\n",
       "<table border=\"1\" class=\"dataframe\">\n",
       "  <thead>\n",
       "    <tr style=\"text-align: right;\">\n",
       "      <th></th>\n",
       "      <th>overall</th>\n",
       "      <th>verified</th>\n",
       "      <th>reviewTime</th>\n",
       "      <th>reviewerID</th>\n",
       "      <th>asin</th>\n",
       "      <th>style</th>\n",
       "      <th>reviewerName</th>\n",
       "      <th>reviewText</th>\n",
       "      <th>summary</th>\n",
       "      <th>unixReviewTime</th>\n",
       "      <th>vote</th>\n",
       "      <th>image</th>\n",
       "      <th>title</th>\n",
       "      <th>rank</th>\n",
       "      <th>main_cat</th>\n",
       "    </tr>\n",
       "  </thead>\n",
       "  <tbody>\n",
       "    <tr>\n",
       "      <th>37</th>\n",
       "      <td>5.0</td>\n",
       "      <td>True</td>\n",
       "      <td>11 2, 2002</td>\n",
       "      <td>A1HP3B92A3JDQ1</td>\n",
       "      <td>0005019281</td>\n",
       "      <td>{'Format:': ' DVD'}</td>\n",
       "      <td>OmegaWolf747</td>\n",
       "      <td>Of course it's impossible to separate Henry Wi...</td>\n",
       "      <td>The Fonz as Scrooge</td>\n",
       "      <td>1036195200</td>\n",
       "      <td>4</td>\n",
       "      <td>NaN</td>\n",
       "      <td>An American Christmas Carol VHS</td>\n",
       "      <td>704,028inMoviesTV(</td>\n",
       "      <td>Movies &amp; TV</td>\n",
       "    </tr>\n",
       "    <tr>\n",
       "      <th>38</th>\n",
       "      <td>5.0</td>\n",
       "      <td>False</td>\n",
       "      <td>01 28, 2002</td>\n",
       "      <td>AZB4CQ9JZSUQB</td>\n",
       "      <td>0005019281</td>\n",
       "      <td>{'Format:': ' DVD'}</td>\n",
       "      <td>Eric Pregosin</td>\n",
       "      <td>When this first aired in 1979, I enjoyed it so...</td>\n",
       "      <td>A Christmas Carol to be remembered</td>\n",
       "      <td>1012176000</td>\n",
       "      <td>3</td>\n",
       "      <td>NaN</td>\n",
       "      <td>An American Christmas Carol VHS</td>\n",
       "      <td>704,028inMoviesTV(</td>\n",
       "      <td>Movies &amp; TV</td>\n",
       "    </tr>\n",
       "    <tr>\n",
       "      <th>40</th>\n",
       "      <td>4.0</td>\n",
       "      <td>False</td>\n",
       "      <td>10 19, 2001</td>\n",
       "      <td>A3P98J5DZ00A75</td>\n",
       "      <td>0005019281</td>\n",
       "      <td>{'Format:': ' DVD'}</td>\n",
       "      <td>Ken Roberts</td>\n",
       "      <td>Henry Winkler proves his acting ability in thi...</td>\n",
       "      <td>grey</td>\n",
       "      <td>1003449600</td>\n",
       "      <td>62</td>\n",
       "      <td>NaN</td>\n",
       "      <td>An American Christmas Carol VHS</td>\n",
       "      <td>704,028inMoviesTV(</td>\n",
       "      <td>Movies &amp; TV</td>\n",
       "    </tr>\n",
       "    <tr>\n",
       "      <th>42</th>\n",
       "      <td>5.0</td>\n",
       "      <td>True</td>\n",
       "      <td>01 30, 2018</td>\n",
       "      <td>A131408USYVUN5</td>\n",
       "      <td>0005019281</td>\n",
       "      <td>{'Format:': ' DVD'}</td>\n",
       "      <td>Conrad R. Naugle</td>\n",
       "      <td>as described</td>\n",
       "      <td>Five Stars</td>\n",
       "      <td>1517270400</td>\n",
       "      <td>NaN</td>\n",
       "      <td>NaN</td>\n",
       "      <td>An American Christmas Carol VHS</td>\n",
       "      <td>704,028inMoviesTV(</td>\n",
       "      <td>Movies &amp; TV</td>\n",
       "    </tr>\n",
       "    <tr>\n",
       "      <th>43</th>\n",
       "      <td>5.0</td>\n",
       "      <td>True</td>\n",
       "      <td>01 25, 2018</td>\n",
       "      <td>A2U7DG83EXUSFP</td>\n",
       "      <td>0005019281</td>\n",
       "      <td>{'Format:': ' DVD'}</td>\n",
       "      <td>Donald R. Brandeberry</td>\n",
       "      <td>A good movie with morals</td>\n",
       "      <td>Family movie</td>\n",
       "      <td>1516838400</td>\n",
       "      <td>NaN</td>\n",
       "      <td>NaN</td>\n",
       "      <td>An American Christmas Carol VHS</td>\n",
       "      <td>704,028inMoviesTV(</td>\n",
       "      <td>Movies &amp; TV</td>\n",
       "    </tr>\n",
       "  </tbody>\n",
       "</table>\n",
       "</div>"
      ],
      "text/plain": [
       "    overall  verified   reviewTime      reviewerID        asin  \\\n",
       "37      5.0      True   11 2, 2002  A1HP3B92A3JDQ1  0005019281   \n",
       "38      5.0     False  01 28, 2002   AZB4CQ9JZSUQB  0005019281   \n",
       "40      4.0     False  10 19, 2001  A3P98J5DZ00A75  0005019281   \n",
       "42      5.0      True  01 30, 2018  A131408USYVUN5  0005019281   \n",
       "43      5.0      True  01 25, 2018  A2U7DG83EXUSFP  0005019281   \n",
       "\n",
       "                  style           reviewerName  \\\n",
       "37  {'Format:': ' DVD'}           OmegaWolf747   \n",
       "38  {'Format:': ' DVD'}          Eric Pregosin   \n",
       "40  {'Format:': ' DVD'}            Ken Roberts   \n",
       "42  {'Format:': ' DVD'}       Conrad R. Naugle   \n",
       "43  {'Format:': ' DVD'}  Donald R. Brandeberry   \n",
       "\n",
       "                                           reviewText  \\\n",
       "37  Of course it's impossible to separate Henry Wi...   \n",
       "38  When this first aired in 1979, I enjoyed it so...   \n",
       "40  Henry Winkler proves his acting ability in thi...   \n",
       "42                                       as described   \n",
       "43                           A good movie with morals   \n",
       "\n",
       "                               summary  unixReviewTime vote image  \\\n",
       "37                 The Fonz as Scrooge      1036195200    4   NaN   \n",
       "38  A Christmas Carol to be remembered      1012176000    3   NaN   \n",
       "40                                grey      1003449600   62   NaN   \n",
       "42                          Five Stars      1517270400  NaN   NaN   \n",
       "43                        Family movie      1516838400  NaN   NaN   \n",
       "\n",
       "                              title                rank     main_cat  \n",
       "37  An American Christmas Carol VHS  704,028inMoviesTV(  Movies & TV  \n",
       "38  An American Christmas Carol VHS  704,028inMoviesTV(  Movies & TV  \n",
       "40  An American Christmas Carol VHS  704,028inMoviesTV(  Movies & TV  \n",
       "42  An American Christmas Carol VHS  704,028inMoviesTV(  Movies & TV  \n",
       "43  An American Christmas Carol VHS  704,028inMoviesTV(  Movies & TV  "
      ]
     },
     "execution_count": 157,
     "metadata": {},
     "output_type": "execute_result"
    }
   ],
   "source": [
    "subset_df.head()"
   ]
  },
  {
   "cell_type": "code",
   "execution_count": 158,
   "metadata": {},
   "outputs": [
    {
     "name": "stdout",
     "output_type": "stream",
     "text": [
      "True     1759159\n",
      "False     617496\n",
      "Name: verified, dtype: int64\n",
      "True     0.740183\n",
      "False    0.259817\n",
      "Name: verified, dtype: float64\n"
     ]
    }
   ],
   "source": [
    "print(subset_df.verified.value_counts())\n",
    "print(subset_df.verified.value_counts(normalize = True))\n"
   ]
  },
  {
   "cell_type": "code",
   "execution_count": 159,
   "metadata": {},
   "outputs": [],
   "source": [
    "subset_df = subset_df[subset_df['verified'] == True]"
   ]
  },
  {
   "cell_type": "code",
   "execution_count": 160,
   "metadata": {},
   "outputs": [
    {
     "data": {
      "text/plain": [
       "(1759159, 15)"
      ]
     },
     "execution_count": 160,
     "metadata": {},
     "output_type": "execute_result"
    }
   ],
   "source": [
    "subset_df.shape"
   ]
  },
  {
   "cell_type": "markdown",
   "metadata": {},
   "source": [
    "# Ratings matrix from the subset of merged data"
   ]
  },
  {
   "cell_type": "code",
   "execution_count": 161,
   "metadata": {},
   "outputs": [
    {
     "data": {
      "text/plain": [
       "6585"
      ]
     },
     "execution_count": 161,
     "metadata": {},
     "output_type": "execute_result"
    }
   ],
   "source": [
    "subset_df.title.nunique()"
   ]
  },
  {
   "cell_type": "code",
   "execution_count": 162,
   "metadata": {},
   "outputs": [
    {
     "name": "stdout",
     "output_type": "stream",
     "text": [
      "6585\n",
      "(1759159, 15)\n"
     ]
    }
   ],
   "source": [
    "print(subset_df.title.nunique())\n",
    "print(subset_df.shape)\n",
    "\n"
   ]
  },
  {
   "cell_type": "code",
   "execution_count": 163,
   "metadata": {},
   "outputs": [
    {
     "name": "stdout",
     "output_type": "stream",
     "text": [
      "265822\n"
     ]
    }
   ],
   "source": [
    "print(subset_df.reviewerID.nunique())\n"
   ]
  },
  {
   "cell_type": "code",
   "execution_count": 164,
   "metadata": {},
   "outputs": [
    {
     "data": {
      "text/plain": [
       "A2B73CL3QSYWLB    516\n",
       "A1NSDP9YZXLMDX    439\n",
       "A1TA5QYECZP1L1    353\n",
       "A2HVL790PBWYTU    333\n",
       "A1BT9J2I6DC246    322\n",
       "                 ... \n",
       "AW8EJYDLSATCU       1\n",
       "A3SAL52NPL4V5T      1\n",
       "ASDTPYYN9SMLU       1\n",
       "A10QJ7O0O3K0AW      1\n",
       "A3EEMIQFFE71FA      1\n",
       "Name: reviewerID, Length: 265822, dtype: int64"
      ]
     },
     "execution_count": 164,
     "metadata": {},
     "output_type": "execute_result"
    }
   ],
   "source": [
    "subset_df.reviewerID.value_counts()"
   ]
  },
  {
   "cell_type": "code",
   "execution_count": 165,
   "metadata": {},
   "outputs": [
    {
     "data": {
      "text/plain": [
       "Index(['overall', 'verified', 'reviewTime', 'reviewerID', 'asin', 'style',\n",
       "       'reviewerName', 'reviewText', 'summary', 'unixReviewTime', 'vote',\n",
       "       'image', 'title', 'rank', 'main_cat'],\n",
       "      dtype='object')"
      ]
     },
     "execution_count": 165,
     "metadata": {},
     "output_type": "execute_result"
    }
   ],
   "source": [
    "subset_df.columns"
   ]
  },
  {
   "cell_type": "code",
   "execution_count": 166,
   "metadata": {},
   "outputs": [
    {
     "data": {
      "text/plain": [
       "<matplotlib.axes._subplots.AxesSubplot at 0x7f865f0dc7d0>"
      ]
     },
     "execution_count": 166,
     "metadata": {},
     "output_type": "execute_result"
    },
    {
     "data": {
      "image/png": "[encoded data removed]",
      "text/plain": [
       "<Figure size 432x288 with 1 Axes>"
      ]
     },
     "metadata": {
      "needs_background": "light"
     },
     "output_type": "display_data"
    }
   ],
   "source": [
    "sns.boxplot(x=subset_df.reviewerID.value_counts())"
   ]
  },
  {
   "cell_type": "code",
   "execution_count": 167,
   "metadata": {},
   "outputs": [
    {
     "data": {
      "text/plain": [
       "Index(['A394AF4TZK8WJO', 'AAB2UG7X51G0D', 'A1BOOL8UBVD15Y', 'AJMO63REZRSVK',\n",
       "       'A2F97THPERTLC9', 'A35E0VGWQKCADS', 'A15QA95CCXW0KV', 'A27WO09H4ZPRXD',\n",
       "       'AY01LZPPQ1JTQ', 'A3E5V5TSTAY3R9',\n",
       "       ...\n",
       "       'A18KKGIOCOU4R3', 'AJENAL3Q3C7SU', 'A28NRDJPJAPN75', 'ADC4D54LMTJ6T',\n",
       "       'A1CUT41Z9NIFQM', 'A1NA9NKDFDXDKB', 'A3TN0JCPQWNYZV', 'A4WQJU231Z7ZI',\n",
       "       'AEJAGHLC675A7', 'A1QLF8UW2LPDWW'],\n",
       "      dtype='object', length=150539)"
      ]
     },
     "execution_count": 167,
     "metadata": {},
     "output_type": "execute_result"
    }
   ],
   "source": [
    "users_comments = subset_df.reviewerID.value_counts()\n",
    "users_subset = users_comments[users_comments.between(5,50)].index\n",
    "users_subset"
   ]
  },
  {
   "cell_type": "code",
   "execution_count": 168,
   "metadata": {},
   "outputs": [
    {
     "name": "stdout",
     "output_type": "stream",
     "text": [
      "(1359139, 15)\n"
     ]
    },
    {
     "data": {
      "text/plain": [
       "150539"
      ]
     },
     "execution_count": 168,
     "metadata": {},
     "output_type": "execute_result"
    }
   ],
   "source": [
    "subset_df = subset_df[subset_df['reviewerID'].isin(users_subset)]\n",
    "print(subset_df.shape)\n",
    "len(users_subset)"
   ]
  },
  {
   "cell_type": "code",
   "execution_count": 169,
   "metadata": {},
   "outputs": [
    {
     "data": {
      "text/plain": [
       "Index(['A394AF4TZK8WJO', 'AAB2UG7X51G0D', 'A1BOOL8UBVD15Y', 'AJMO63REZRSVK',\n",
       "       'A2F97THPERTLC9', 'A35E0VGWQKCADS', 'A15QA95CCXW0KV', 'A27WO09H4ZPRXD',\n",
       "       'AY01LZPPQ1JTQ', 'A3E5V5TSTAY3R9',\n",
       "       ...\n",
       "       'A18KKGIOCOU4R3', 'AJENAL3Q3C7SU', 'A28NRDJPJAPN75', 'ADC4D54LMTJ6T',\n",
       "       'A1CUT41Z9NIFQM', 'A1NA9NKDFDXDKB', 'A3TN0JCPQWNYZV', 'A4WQJU231Z7ZI',\n",
       "       'AEJAGHLC675A7', 'A1QLF8UW2LPDWW'],\n",
       "      dtype='object', length=150539)"
      ]
     },
     "execution_count": 169,
     "metadata": {},
     "output_type": "execute_result"
    }
   ],
   "source": [
    "users_subset"
   ]
  },
  {
   "cell_type": "code",
   "execution_count": null,
   "metadata": {},
   "outputs": [],
   "source": []
  },
  {
   "cell_type": "code",
   "execution_count": 170,
   "metadata": {},
   "outputs": [
    {
     "data": {
      "text/html": [
       "<div>\n",
       "<style scoped>\n",
       "    .dataframe tbody tr th:only-of-type {\n",
       "        vertical-align: middle;\n",
       "    }\n",
       "\n",
       "    .dataframe tbody tr th {\n",
       "        vertical-align: top;\n",
       "    }\n",
       "\n",
       "    .dataframe thead th {\n",
       "        text-align: right;\n",
       "    }\n",
       "</style>\n",
       "<table border=\"1\" class=\"dataframe\">\n",
       "  <thead>\n",
       "    <tr style=\"text-align: right;\">\n",
       "      <th></th>\n",
       "      <th>overall</th>\n",
       "      <th>verified</th>\n",
       "      <th>reviewTime</th>\n",
       "      <th>reviewerID</th>\n",
       "      <th>asin</th>\n",
       "      <th>style</th>\n",
       "      <th>reviewerName</th>\n",
       "      <th>reviewText</th>\n",
       "      <th>summary</th>\n",
       "      <th>unixReviewTime</th>\n",
       "      <th>vote</th>\n",
       "      <th>image</th>\n",
       "      <th>rank</th>\n",
       "      <th>main_cat</th>\n",
       "    </tr>\n",
       "    <tr>\n",
       "      <th>title</th>\n",
       "      <th></th>\n",
       "      <th></th>\n",
       "      <th></th>\n",
       "      <th></th>\n",
       "      <th></th>\n",
       "      <th></th>\n",
       "      <th></th>\n",
       "      <th></th>\n",
       "      <th></th>\n",
       "      <th></th>\n",
       "      <th></th>\n",
       "      <th></th>\n",
       "      <th></th>\n",
       "      <th></th>\n",
       "    </tr>\n",
       "  </thead>\n",
       "  <tbody>\n",
       "    <tr>\n",
       "      <th>\"Love Is All You Need?\" Short Film - Theatrical Version</th>\n",
       "      <td>61</td>\n",
       "      <td>61</td>\n",
       "      <td>61</td>\n",
       "      <td>61</td>\n",
       "      <td>61</td>\n",
       "      <td>61</td>\n",
       "      <td>61</td>\n",
       "      <td>61</td>\n",
       "      <td>61</td>\n",
       "      <td>61</td>\n",
       "      <td>15</td>\n",
       "      <td>0</td>\n",
       "      <td>61</td>\n",
       "      <td>61</td>\n",
       "    </tr>\n",
       "    <tr>\n",
       "      <th>\"Sriracha\" - a Documentary By Griffin Hammond [Blu-ray]</th>\n",
       "      <td>262</td>\n",
       "      <td>262</td>\n",
       "      <td>262</td>\n",
       "      <td>262</td>\n",
       "      <td>262</td>\n",
       "      <td>262</td>\n",
       "      <td>262</td>\n",
       "      <td>261</td>\n",
       "      <td>262</td>\n",
       "      <td>262</td>\n",
       "      <td>11</td>\n",
       "      <td>0</td>\n",
       "      <td>262</td>\n",
       "      <td>262</td>\n",
       "    </tr>\n",
       "    <tr>\n",
       "      <th>'71 2014</th>\n",
       "      <td>184</td>\n",
       "      <td>184</td>\n",
       "      <td>184</td>\n",
       "      <td>184</td>\n",
       "      <td>184</td>\n",
       "      <td>184</td>\n",
       "      <td>184</td>\n",
       "      <td>184</td>\n",
       "      <td>184</td>\n",
       "      <td>184</td>\n",
       "      <td>9</td>\n",
       "      <td>0</td>\n",
       "      <td>184</td>\n",
       "      <td>184</td>\n",
       "    </tr>\n",
       "    <tr>\n",
       "      <th>(500) Days of Summer</th>\n",
       "      <td>128</td>\n",
       "      <td>128</td>\n",
       "      <td>128</td>\n",
       "      <td>128</td>\n",
       "      <td>128</td>\n",
       "      <td>128</td>\n",
       "      <td>128</td>\n",
       "      <td>128</td>\n",
       "      <td>128</td>\n",
       "      <td>128</td>\n",
       "      <td>15</td>\n",
       "      <td>0</td>\n",
       "      <td>128</td>\n",
       "      <td>128</td>\n",
       "    </tr>\n",
       "    <tr>\n",
       "      <th>10 Cloverfield Lane</th>\n",
       "      <td>993</td>\n",
       "      <td>993</td>\n",
       "      <td>993</td>\n",
       "      <td>993</td>\n",
       "      <td>993</td>\n",
       "      <td>993</td>\n",
       "      <td>993</td>\n",
       "      <td>993</td>\n",
       "      <td>992</td>\n",
       "      <td>993</td>\n",
       "      <td>60</td>\n",
       "      <td>3</td>\n",
       "      <td>993</td>\n",
       "      <td>993</td>\n",
       "    </tr>\n",
       "    <tr>\n",
       "      <th>...</th>\n",
       "      <td>...</td>\n",
       "      <td>...</td>\n",
       "      <td>...</td>\n",
       "      <td>...</td>\n",
       "      <td>...</td>\n",
       "      <td>...</td>\n",
       "      <td>...</td>\n",
       "      <td>...</td>\n",
       "      <td>...</td>\n",
       "      <td>...</td>\n",
       "      <td>...</td>\n",
       "      <td>...</td>\n",
       "      <td>...</td>\n",
       "      <td>...</td>\n",
       "    </tr>\n",
       "    <tr>\n",
       "      <th>Zulu Dawn VHS</th>\n",
       "      <td>93</td>\n",
       "      <td>93</td>\n",
       "      <td>93</td>\n",
       "      <td>93</td>\n",
       "      <td>93</td>\n",
       "      <td>93</td>\n",
       "      <td>92</td>\n",
       "      <td>93</td>\n",
       "      <td>93</td>\n",
       "      <td>93</td>\n",
       "      <td>10</td>\n",
       "      <td>0</td>\n",
       "      <td>93</td>\n",
       "      <td>93</td>\n",
       "    </tr>\n",
       "    <tr>\n",
       "      <th>resident evil collection (5 dvd) box set dvd Italian Import</th>\n",
       "      <td>121</td>\n",
       "      <td>121</td>\n",
       "      <td>121</td>\n",
       "      <td>121</td>\n",
       "      <td>121</td>\n",
       "      <td>121</td>\n",
       "      <td>121</td>\n",
       "      <td>120</td>\n",
       "      <td>121</td>\n",
       "      <td>121</td>\n",
       "      <td>16</td>\n",
       "      <td>2</td>\n",
       "      <td>121</td>\n",
       "      <td>121</td>\n",
       "    </tr>\n",
       "    <tr>\n",
       "      <th>ry Of The 5eInterstella 5555 - The 5tocret 5tar 5ystem</th>\n",
       "      <td>58</td>\n",
       "      <td>58</td>\n",
       "      <td>58</td>\n",
       "      <td>58</td>\n",
       "      <td>58</td>\n",
       "      <td>58</td>\n",
       "      <td>58</td>\n",
       "      <td>58</td>\n",
       "      <td>58</td>\n",
       "      <td>58</td>\n",
       "      <td>4</td>\n",
       "      <td>0</td>\n",
       "      <td>58</td>\n",
       "      <td>58</td>\n",
       "    </tr>\n",
       "    <tr>\n",
       "      <th>snowpiercer (2 blu-ray) blu_ray Italian Import</th>\n",
       "      <td>539</td>\n",
       "      <td>539</td>\n",
       "      <td>539</td>\n",
       "      <td>539</td>\n",
       "      <td>539</td>\n",
       "      <td>539</td>\n",
       "      <td>539</td>\n",
       "      <td>539</td>\n",
       "      <td>539</td>\n",
       "      <td>539</td>\n",
       "      <td>116</td>\n",
       "      <td>1</td>\n",
       "      <td>539</td>\n",
       "      <td>539</td>\n",
       "    </tr>\n",
       "    <tr>\n",
       "      <th>~HERO~</th>\n",
       "      <td>260</td>\n",
       "      <td>260</td>\n",
       "      <td>260</td>\n",
       "      <td>260</td>\n",
       "      <td>260</td>\n",
       "      <td>260</td>\n",
       "      <td>260</td>\n",
       "      <td>260</td>\n",
       "      <td>260</td>\n",
       "      <td>260</td>\n",
       "      <td>30</td>\n",
       "      <td>0</td>\n",
       "      <td>260</td>\n",
       "      <td>260</td>\n",
       "    </tr>\n",
       "  </tbody>\n",
       "</table>\n",
       "<p>6585 rows × 14 columns</p>\n",
       "</div>"
      ],
      "text/plain": [
       "                                                    overall  verified  \\\n",
       "title                                                                   \n",
       "\"Love Is All You Need?\" Short Film - Theatrical...       61        61   \n",
       "\"Sriracha\" - a Documentary By Griffin Hammond [...      262       262   \n",
       "'71 2014                                                184       184   \n",
       "(500) Days of Summer                                    128       128   \n",
       "10 Cloverfield Lane                                     993       993   \n",
       "...                                                     ...       ...   \n",
       "Zulu Dawn VHS                                            93        93   \n",
       "resident evil collection (5 dvd) box set dvd It...      121       121   \n",
       "ry Of The 5eInterstella 5555 - The 5tocret 5tar...       58        58   \n",
       "snowpiercer (2 blu-ray) blu_ray Italian Import          539       539   \n",
       "~HERO~                                                  260       260   \n",
       "\n",
       "                                                    reviewTime  reviewerID  \\\n",
       "title                                                                        \n",
       "\"Love Is All You Need?\" Short Film - Theatrical...          61          61   \n",
       "\"Sriracha\" - a Documentary By Griffin Hammond [...         262         262   \n",
       "'71 2014                                                   184         184   \n",
       "(500) Days of Summer                                       128         128   \n",
       "10 Cloverfield Lane                                        993         993   \n",
       "...                                                        ...         ...   \n",
       "Zulu Dawn VHS                                               93          93   \n",
       "resident evil collection (5 dvd) box set dvd It...         121         121   \n",
       "ry Of The 5eInterstella 5555 - The 5tocret 5tar...          58          58   \n",
       "snowpiercer (2 blu-ray) blu_ray Italian Import             539         539   \n",
       "~HERO~                                                     260         260   \n",
       "\n",
       "                                                    asin  style  reviewerName  \\\n",
       "title                                                                           \n",
       "\"Love Is All You Need?\" Short Film - Theatrical...    61     61            61   \n",
       "\"Sriracha\" - a Documentary By Griffin Hammond [...   262    262           262   \n",
       "'71 2014                                             184    184           184   \n",
       "(500) Days of Summer                                 128    128           128   \n",
       "10 Cloverfield Lane                                  993    993           993   \n",
       "...                                                  ...    ...           ...   \n",
       "Zulu Dawn VHS                                         93     93            92   \n",
       "resident evil collection (5 dvd) box set dvd It...   121    121           121   \n",
       "ry Of The 5eInterstella 5555 - The 5tocret 5tar...    58     58            58   \n",
       "snowpiercer (2 blu-ray) blu_ray Italian Import       539    539           539   \n",
       "~HERO~                                               260    260           260   \n",
       "\n",
       "                                                    reviewText  summary  \\\n",
       "title                                                                     \n",
       "\"Love Is All You Need?\" Short Film - Theatrical...          61       61   \n",
       "\"Sriracha\" - a Documentary By Griffin Hammond [...         261      262   \n",
       "'71 2014                                                   184      184   \n",
       "(500) Days of Summer                                       128      128   \n",
       "10 Cloverfield Lane                                        993      992   \n",
       "...                                                        ...      ...   \n",
       "Zulu Dawn VHS                                               93       93   \n",
       "resident evil collection (5 dvd) box set dvd It...         120      121   \n",
       "ry Of The 5eInterstella 5555 - The 5tocret 5tar...          58       58   \n",
       "snowpiercer (2 blu-ray) blu_ray Italian Import             539      539   \n",
       "~HERO~                                                     260      260   \n",
       "\n",
       "                                                    unixReviewTime  vote  \\\n",
       "title                                                                      \n",
       "\"Love Is All You Need?\" Short Film - Theatrical...              61    15   \n",
       "\"Sriracha\" - a Documentary By Griffin Hammond [...             262    11   \n",
       "'71 2014                                                       184     9   \n",
       "(500) Days of Summer                                           128    15   \n",
       "10 Cloverfield Lane                                            993    60   \n",
       "...                                                            ...   ...   \n",
       "Zulu Dawn VHS                                                   93    10   \n",
       "resident evil collection (5 dvd) box set dvd It...             121    16   \n",
       "ry Of The 5eInterstella 5555 - The 5tocret 5tar...              58     4   \n",
       "snowpiercer (2 blu-ray) blu_ray Italian Import                 539   116   \n",
       "~HERO~                                                         260    30   \n",
       "\n",
       "                                                    image  rank  main_cat  \n",
       "title                                                                      \n",
       "\"Love Is All You Need?\" Short Film - Theatrical...      0    61        61  \n",
       "\"Sriracha\" - a Documentary By Griffin Hammond [...      0   262       262  \n",
       "'71 2014                                                0   184       184  \n",
       "(500) Days of Summer                                    0   128       128  \n",
       "10 Cloverfield Lane                                     3   993       993  \n",
       "...                                                   ...   ...       ...  \n",
       "Zulu Dawn VHS                                           0    93        93  \n",
       "resident evil collection (5 dvd) box set dvd It...      2   121       121  \n",
       "ry Of The 5eInterstella 5555 - The 5tocret 5tar...      0    58        58  \n",
       "snowpiercer (2 blu-ray) blu_ray Italian Import          1   539       539  \n",
       "~HERO~                                                  0   260       260  \n",
       "\n",
       "[6585 rows x 14 columns]"
      ]
     },
     "execution_count": 170,
     "metadata": {},
     "output_type": "execute_result"
    }
   ],
   "source": [
    "subset_df.groupby('title').count()"
   ]
  },
  {
   "cell_type": "code",
   "execution_count": 171,
   "metadata": {},
   "outputs": [
    {
     "ename": "SyntaxError",
     "evalue": "unexpected EOF while parsing (<ipython-input-171-f4da32517eb6>, line 1)",
     "output_type": "error",
     "traceback": [
      "\u001b[0;36m  File \u001b[0;32m\"<ipython-input-171-f4da32517eb6>\"\u001b[0;36m, line \u001b[0;32m1\u001b[0m\n\u001b[0;31m    print(subset_df.groupby('title').size()\u001b[0m\n\u001b[0m                                           ^\u001b[0m\n\u001b[0;31mSyntaxError\u001b[0m\u001b[0;31m:\u001b[0m unexpected EOF while parsing\n"
     ]
    }
   ],
   "source": [
    "print(subset_df.groupby('title').size()"
   ]
  },
  {
   "cell_type": "code",
   "execution_count": 172,
   "metadata": {},
   "outputs": [
    {
     "data": {
      "text/plain": [
       "5.0    3307\n",
       "4.0    2848\n",
       "3.0     388\n",
       "2.0      42\n",
       "Name: overall, dtype: int64"
      ]
     },
     "execution_count": 172,
     "metadata": {},
     "output_type": "execute_result"
    }
   ],
   "source": [
    "subset_df.groupby('title').agg({'overall': 'mean'}).round()['overall'].value_counts()"
   ]
  },
  {
   "cell_type": "code",
   "execution_count": null,
   "metadata": {},
   "outputs": [],
   "source": []
  },
  {
   "cell_type": "code",
   "execution_count": 173,
   "metadata": {},
   "outputs": [
    {
     "data": {
      "text/plain": [
       "AY01LZPPQ1JTQ     50\n",
       "A35MSQSDFQEN4S    50\n",
       "A1YZB5M3ECP3H8    50\n",
       "A3U30ZZFIO4178    50\n",
       "A1OWK3WT3INH4O    50\n",
       "                  ..\n",
       "A3AL6ZYCS3IK2A     5\n",
       "A8HOW5I04YI0W      5\n",
       "A3RIP8Y75SMPP4     5\n",
       "A1VWT3HMHGFEQG     5\n",
       "A3FBRNE89PWY9Q     5\n",
       "Name: reviewerID, Length: 150539, dtype: int64"
      ]
     },
     "execution_count": 173,
     "metadata": {},
     "output_type": "execute_result"
    }
   ],
   "source": [
    "ratings_tidy = subset_df.loc[:,['reviewerID', 'title', 'overall']]\n",
    "ratings_tidy['reviewerID'].value_counts()"
   ]
  },
  {
   "cell_type": "code",
   "execution_count": null,
   "metadata": {},
   "outputs": [],
   "source": []
  },
  {
   "cell_type": "code",
   "execution_count": null,
   "metadata": {},
   "outputs": [],
   "source": []
  },
  {
   "cell_type": "code",
   "execution_count": null,
   "metadata": {},
   "outputs": [],
   "source": []
  },
  {
   "cell_type": "code",
   "execution_count": null,
   "metadata": {},
   "outputs": [],
   "source": [
    "subset_df.groupby('title').count()"
   ]
  },
  {
   "cell_type": "code",
   "execution_count": null,
   "metadata": {},
   "outputs": [],
   "source": []
  },
  {
   "cell_type": "code",
   "execution_count": null,
   "metadata": {},
   "outputs": [],
   "source": []
  },
  {
   "cell_type": "code",
   "execution_count": null,
   "metadata": {},
   "outputs": [],
   "source": []
  },
  {
   "cell_type": "code",
   "execution_count": null,
   "metadata": {},
   "outputs": [],
   "source": []
  },
  {
   "cell_type": "code",
   "execution_count": 115,
   "metadata": {},
   "outputs": [],
   "source": [
    "subset_df.to_csv('reviews.csv', index = False)"
   ]
  },
  {
   "cell_type": "code",
   "execution_count": null,
   "metadata": {},
   "outputs": [],
   "source": []
  },
  {
   "cell_type": "code",
   "execution_count": null,
   "metadata": {},
   "outputs": [],
   "source": []
  },
  {
   "cell_type": "code",
   "execution_count": null,
   "metadata": {},
   "outputs": [],
   "source": []
  },
  {
   "cell_type": "code",
   "execution_count": null,
   "metadata": {},
   "outputs": [],
   "source": []
  },
  {
   "cell_type": "code",
   "execution_count": null,
   "metadata": {},
   "outputs": [],
   "source": []
  },
  {
   "cell_type": "code",
   "execution_count": null,
   "metadata": {},
   "outputs": [],
   "source": []
  }
 ],
 "metadata": {
  "kernelspec": {
   "display_name": "Python 3",
   "language": "python",
   "name": "python3"
  },
  "language_info": {
   "codemirror_mode": {
    "name": "ipython",
    "version": 3
   },
   "file_extension": ".py",
   "mimetype": "text/x-python",
   "name": "python",
   "nbconvert_exporter": "python",
   "pygments_lexer": "ipython3",
   "version": "3.7.4"
  },
  "toc": {
   "base_numbering": 1,
   "nav_menu": {},
   "number_sections": true,
   "sideBar": true,
   "skip_h1_title": false,
   "title_cell": "Table of Contents",
   "title_sidebar": "Contents",
   "toc_cell": false,
   "toc_position": {},
   "toc_section_display": true,
   "toc_window_display": true
  },
  "varInspector": {
   "cols": {
    "lenName": 16,
    "lenType": 16,
    "lenVar": 40
   },
   "kernels_config": {
    "python": {
     "delete_cmd_postfix": "",
     "delete_cmd_prefix": "del ",
     "library": "var_list.py",
     "varRefreshCmd": "print(var_dic_list())"
    },
    "r": {
     "delete_cmd_postfix": ") ",
     "delete_cmd_prefix": "rm(",
     "library": "var_list.r",
     "varRefreshCmd": "cat(var_dic_list()) "
    }
   },
   "position": {
    "height": "643.457px",
    "left": "1633.39px",
    "right": "20px",
    "top": "130.918px",
    "width": "456.934px"
   },
   "types_to_exclude": [
    "module",
    "function",
    "builtin_function_or_method",
    "instance",
    "_Feature"
   ],
   "window_display": false
  }
 },
 "nbformat": 4,
 "nbformat_minor": 2
}
