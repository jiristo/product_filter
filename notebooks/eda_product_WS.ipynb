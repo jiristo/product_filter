{
 "cells": [
  {
   "cell_type": "code",
   "execution_count": 1,
   "metadata": {},
   "outputs": [],
   "source": [
    "import json\n",
    "import pandas as pd\n",
    "import gzip"
   ]
  },
  {
   "cell_type": "markdown",
   "metadata": {},
   "source": [
    "# Loading metadata"
   ]
  },
  {
   "cell_type": "code",
   "execution_count": 2,
   "metadata": {},
   "outputs": [
    {
     "name": "stdout",
     "output_type": "stream",
     "text": [
      "203970\n",
      "{'category': ['Movies & TV', 'Movies'], 'title': 'Understanding Seizures and Epilepsy', 'rank': '886,503inMoviesTV(', 'main_cat': 'Movies & TV', 'asin': '0000695009'}\n"
     ]
    }
   ],
   "source": [
    "meta = []\n",
    "with gzip.open('meta_Movies_and_TV.json.gz') as f:\n",
    "    for l in f:\n",
    "        meta.append(json.loads(l.strip()))\n",
    "    \n",
    "# total length of list, this number equals total number of products\n",
    "print(len(meta))\n",
    "\n",
    "# first row of the list\n",
    "print(meta[0])"
   ]
  },
  {
   "cell_type": "code",
   "execution_count": 9,
   "metadata": {},
   "outputs": [
    {
     "data": {
      "text/plain": [
       "{'category': ['Movies & TV',\n",
       "  'Genre for Featured Categories',\n",
       "  'Faith & Spirituality'],\n",
       " 'description': ['Sarah was the only woman in the Bible who had her youth renewedliterallyin her old age, such that two kings wanted her! She even conceived and bore Abraham a healthy son. Moses, at 120 years old, still had perfect eyesight and was as strong as a young man. Caleb, at the age of 85, declared that he was as strong as he had been at the age of 40, not just for daily activities, but also for war! And he proved it by claiming a whole mountain and driving out the giant inhabitants. So what are the secrets to their divine strength and youthfulness? The astounding answers and truths revealed by Joseph Prince will charge you up spiritually and give you the faith to receive a literal renewal of youth and the miracle you are believing God for! 3-DVD Album (This DVD Album contains 3 Sermons with 3 Discs) Disc 1: The Secrets Of Divine Strength And YouthfulnessSecrets of Sarah (Approx. 1hr 00min) Disc 2: The Secrets Of Divine Strength And YouthfulnessThe Secret Of Moses (Approx. 1hr 15min) Disc 3: The Secrets Of Divine Strength And YouthfulnessThe Secret Of Caleb (Approx. 57min)',\n",
       "  'With more than two decades of full-time ministry behind him, Pastor Joseph Prince is today a leading voice in proclaiming the gospel of grace around the world through his teaching resources and television ministry. A highly sought-after conference speaker, Pastor Prince has impacted church leaders internationally by preaching the unadulterated gospel of Jesus with boldness. He is known for teaching Gods Word in a fresh, practical and revelatory way that always unveils Jesus. His humorous, dynamic and engaging style of preaching has also endeared him to a wide spectrum of viewers who tune in to his daily television programme, Destined To Reign. This broadcast currently reaches millions of homes across North America, Europe, Africa, Australia and Israel on both secular and Christian networks.'],\n",
       " 'title': 'The Secrets of Divine Strength And Youthfulness Album  NTSC',\n",
       " 'image': ['https://images-na.ssl-images-amazon.com/images/I/51AJOic9WAL._SX38_SY50_CR,0,0,38,50_.jpg'],\n",
       " 'brand': 'Joseph Prince',\n",
       " 'rank': '359,382inMoviesTV(',\n",
       " 'main_cat': 'Movies & TV',\n",
       " 'price': '$29.81',\n",
       " 'asin': '0020110006'}"
      ]
     },
     "execution_count": 9,
     "metadata": {},
     "output_type": "execute_result"
    }
   ],
   "source": [
    "meta[43]"
   ]
  },
  {
   "cell_type": "code",
   "execution_count": null,
   "metadata": {},
   "outputs": [],
   "source": []
  },
  {
   "cell_type": "code",
   "execution_count": 3,
   "metadata": {},
   "outputs": [],
   "source": [
    "meta_df = pd.DataFrame(meta)"
   ]
  },
  {
   "cell_type": "code",
   "execution_count": 4,
   "metadata": {},
   "outputs": [
    {
     "data": {
      "text/html": [
       "<div>\n",
       "<style scoped>\n",
       "    .dataframe tbody tr th:only-of-type {\n",
       "        vertical-align: middle;\n",
       "    }\n",
       "\n",
       "    .dataframe tbody tr th {\n",
       "        vertical-align: top;\n",
       "    }\n",
       "\n",
       "    .dataframe thead th {\n",
       "        text-align: right;\n",
       "    }\n",
       "</style>\n",
       "<table border=\"1\" class=\"dataframe\">\n",
       "  <thead>\n",
       "    <tr style=\"text-align: right;\">\n",
       "      <th></th>\n",
       "      <th>category</th>\n",
       "      <th>title</th>\n",
       "      <th>rank</th>\n",
       "      <th>main_cat</th>\n",
       "      <th>asin</th>\n",
       "      <th>image</th>\n",
       "      <th>description</th>\n",
       "      <th>brand</th>\n",
       "      <th>also_buy</th>\n",
       "      <th>also_view</th>\n",
       "      <th>price</th>\n",
       "      <th>details</th>\n",
       "      <th>feature</th>\n",
       "      <th>date</th>\n",
       "      <th>tech1</th>\n",
       "    </tr>\n",
       "  </thead>\n",
       "  <tbody>\n",
       "    <tr>\n",
       "      <th>0</th>\n",
       "      <td>[Movies &amp; TV, Movies]</td>\n",
       "      <td>Understanding Seizures and Epilepsy</td>\n",
       "      <td>886,503inMoviesTV(</td>\n",
       "      <td>Movies &amp; TV</td>\n",
       "      <td>0000695009</td>\n",
       "      <td>NaN</td>\n",
       "      <td>NaN</td>\n",
       "      <td>NaN</td>\n",
       "      <td>NaN</td>\n",
       "      <td>NaN</td>\n",
       "      <td>NaN</td>\n",
       "      <td>NaN</td>\n",
       "      <td>NaN</td>\n",
       "      <td>NaN</td>\n",
       "      <td>NaN</td>\n",
       "    </tr>\n",
       "    <tr>\n",
       "      <th>1</th>\n",
       "      <td>[Movies &amp; TV, Movies]</td>\n",
       "      <td>Spirit Led—Moving By Grace In The Holy Spirit'...</td>\n",
       "      <td>342,688inMoviesTV(</td>\n",
       "      <td>Movies &amp; TV</td>\n",
       "      <td>0000791156</td>\n",
       "      <td>[https://images-na.ssl-images-amazon.com/image...</td>\n",
       "      <td>NaN</td>\n",
       "      <td>NaN</td>\n",
       "      <td>NaN</td>\n",
       "      <td>NaN</td>\n",
       "      <td>NaN</td>\n",
       "      <td>NaN</td>\n",
       "      <td>NaN</td>\n",
       "      <td>NaN</td>\n",
       "      <td>NaN</td>\n",
       "    </tr>\n",
       "    <tr>\n",
       "      <th>2</th>\n",
       "      <td>[Movies &amp; TV, Movies]</td>\n",
       "      <td>My Fair Pastry (Good Eats Vol. 9)</td>\n",
       "      <td>370,026inMoviesTV(</td>\n",
       "      <td>Movies &amp; TV</td>\n",
       "      <td>0000143529</td>\n",
       "      <td>[https://images-na.ssl-images-amazon.com/image...</td>\n",
       "      <td>[Disc 1: Flour Power (Scones; Shortcakes; Sout...</td>\n",
       "      <td>Alton Brown</td>\n",
       "      <td>NaN</td>\n",
       "      <td>NaN</td>\n",
       "      <td>NaN</td>\n",
       "      <td>NaN</td>\n",
       "      <td>NaN</td>\n",
       "      <td>NaN</td>\n",
       "      <td>NaN</td>\n",
       "    </tr>\n",
       "    <tr>\n",
       "      <th>3</th>\n",
       "      <td>[Movies &amp; TV, Movies]</td>\n",
       "      <td>Barefoot Contessa (with Ina Garten), Entertain...</td>\n",
       "      <td>342,914inMoviesTV(</td>\n",
       "      <td>Movies &amp; TV</td>\n",
       "      <td>0000143588</td>\n",
       "      <td>NaN</td>\n",
       "      <td>[Barefoot Contessa Volume 2: On these three di...</td>\n",
       "      <td>Ina Garten</td>\n",
       "      <td>[B002I5GNW4, B005WXPVMM, B009UY3W8O, B00N27ID1...</td>\n",
       "      <td>[B002I5GNW4, 0804187045, B009UY3W8O, 060960219...</td>\n",
       "      <td>$74.95</td>\n",
       "      <td>NaN</td>\n",
       "      <td>NaN</td>\n",
       "      <td>NaN</td>\n",
       "      <td>NaN</td>\n",
       "    </tr>\n",
       "    <tr>\n",
       "      <th>4</th>\n",
       "      <td>[Movies &amp; TV, Movies]</td>\n",
       "      <td>Rise and Swine (Good Eats Vol. 7)</td>\n",
       "      <td>351,684inMoviesTV(</td>\n",
       "      <td>Movies &amp; TV</td>\n",
       "      <td>0000143502</td>\n",
       "      <td>[https://images-na.ssl-images-amazon.com/image...</td>\n",
       "      <td>[Rise and Swine (Good Eats Vol. 7) includes bo...</td>\n",
       "      <td>Alton Brown</td>\n",
       "      <td>[B000P1CKES, B000NR4CRM]</td>\n",
       "      <td>[B0015SVNXY]</td>\n",
       "      <td>NaN</td>\n",
       "      <td>NaN</td>\n",
       "      <td>NaN</td>\n",
       "      <td>NaN</td>\n",
       "      <td>NaN</td>\n",
       "    </tr>\n",
       "  </tbody>\n",
       "</table>\n",
       "</div>"
      ],
      "text/plain": [
       "                category                                              title  \\\n",
       "0  [Movies & TV, Movies]                Understanding Seizures and Epilepsy   \n",
       "1  [Movies & TV, Movies]  Spirit Led—Moving By Grace In The Holy Spirit'...   \n",
       "2  [Movies & TV, Movies]                  My Fair Pastry (Good Eats Vol. 9)   \n",
       "3  [Movies & TV, Movies]  Barefoot Contessa (with Ina Garten), Entertain...   \n",
       "4  [Movies & TV, Movies]                  Rise and Swine (Good Eats Vol. 7)   \n",
       "\n",
       "                 rank     main_cat        asin  \\\n",
       "0  886,503inMoviesTV(  Movies & TV  0000695009   \n",
       "1  342,688inMoviesTV(  Movies & TV  0000791156   \n",
       "2  370,026inMoviesTV(  Movies & TV  0000143529   \n",
       "3  342,914inMoviesTV(  Movies & TV  0000143588   \n",
       "4  351,684inMoviesTV(  Movies & TV  0000143502   \n",
       "\n",
       "                                               image  \\\n",
       "0                                                NaN   \n",
       "1  [https://images-na.ssl-images-amazon.com/image...   \n",
       "2  [https://images-na.ssl-images-amazon.com/image...   \n",
       "3                                                NaN   \n",
       "4  [https://images-na.ssl-images-amazon.com/image...   \n",
       "\n",
       "                                         description        brand  \\\n",
       "0                                                NaN          NaN   \n",
       "1                                                NaN          NaN   \n",
       "2  [Disc 1: Flour Power (Scones; Shortcakes; Sout...  Alton Brown   \n",
       "3  [Barefoot Contessa Volume 2: On these three di...   Ina Garten   \n",
       "4  [Rise and Swine (Good Eats Vol. 7) includes bo...  Alton Brown   \n",
       "\n",
       "                                            also_buy  \\\n",
       "0                                                NaN   \n",
       "1                                                NaN   \n",
       "2                                                NaN   \n",
       "3  [B002I5GNW4, B005WXPVMM, B009UY3W8O, B00N27ID1...   \n",
       "4                           [B000P1CKES, B000NR4CRM]   \n",
       "\n",
       "                                           also_view   price details feature  \\\n",
       "0                                                NaN     NaN     NaN     NaN   \n",
       "1                                                NaN     NaN     NaN     NaN   \n",
       "2                                                NaN     NaN     NaN     NaN   \n",
       "3  [B002I5GNW4, 0804187045, B009UY3W8O, 060960219...  $74.95     NaN     NaN   \n",
       "4                                       [B0015SVNXY]     NaN     NaN     NaN   \n",
       "\n",
       "  date tech1  \n",
       "0  NaN   NaN  \n",
       "1  NaN   NaN  \n",
       "2  NaN   NaN  \n",
       "3  NaN   NaN  \n",
       "4  NaN   NaN  "
      ]
     },
     "execution_count": 4,
     "metadata": {},
     "output_type": "execute_result"
    }
   ],
   "source": [
    "meta_df.head()"
   ]
  },
  {
   "cell_type": "code",
   "execution_count": 6,
   "metadata": {},
   "outputs": [
    {
     "data": {
      "text/plain": [
       "(203970, 15)"
      ]
     },
     "execution_count": 6,
     "metadata": {},
     "output_type": "execute_result"
    }
   ],
   "source": [
    "meta_df.shape"
   ]
  },
  {
   "cell_type": "code",
   "execution_count": null,
   "metadata": {},
   "outputs": [],
   "source": []
  },
  {
   "cell_type": "code",
   "execution_count": null,
   "metadata": {},
   "outputs": [],
   "source": []
  },
  {
   "cell_type": "markdown",
   "metadata": {},
   "source": [
    "# Loading Reviews"
   ]
  },
  {
   "cell_type": "code",
   "execution_count": 7,
   "metadata": {},
   "outputs": [],
   "source": [
    "reviews = []\n",
    "for line in open('Movies_and_TV_5.json', 'r'):\n",
    "    reviews.append(json.loads(line))"
   ]
  },
  {
   "cell_type": "code",
   "execution_count": 8,
   "metadata": {},
   "outputs": [
    {
     "data": {
      "text/plain": [
       "{'overall': 5.0,\n",
       " 'verified': True,\n",
       " 'reviewTime': '10 17, 2007',\n",
       " 'reviewerID': 'A3TNYNA2360NPA',\n",
       " 'asin': '000503860X',\n",
       " 'style': {'Format:': ' DVD'},\n",
       " 'reviewerName': 'Stanley  C. Sargent',\n",
       " 'reviewText': 'I\\'ve loved X since I first saw them here in San Francisco with, I believe, Devo and Romeo Void.  Romeo Void was a disaster due to the tiny outfit Deborah squeezed her huge body into; the audience couldn\\'t stand to look at her even when the music was good. Devo was quite good. Then X came on stage and it was like hearing a great music system play compared to a tinny radio\\'s sound. Man, they were great and they, unlike 99% of the other \"new wave/punk\" bands of the era were pros.  They had it down and played it up. I loved them! Watching this excellent reunion video (yes, Billy Zoom still has that same perpetual, inane smile on his face while playing), I was surprised to see very much the same show I saw all those years ago, with some extra songs that came out later, that is. The band\\'s still electrifying. I\\'d like to see them \"live\" again, but until then, this video is the next best thing. It\\'s well filmed and has a great selection of their best songs. Sure, they aren\\'t as \"pretty\" as they used to be, but before you say too much, check your rearview mirror to see how you look now compared to 20 some odd years ago. Then, once humbled, go buy this CD. You will love it!',\n",
       " 'summary': 'A Revival to match the early shows by a great band',\n",
       " 'unixReviewTime': 1192579200}"
      ]
     },
     "execution_count": 8,
     "metadata": {},
     "output_type": "execute_result"
    }
   ],
   "source": [
    "reviews[5]"
   ]
  },
  {
   "cell_type": "code",
   "execution_count": 9,
   "metadata": {},
   "outputs": [],
   "source": [
    "reviews_df = pd.DataFrame(reviews)"
   ]
  },
  {
   "cell_type": "code",
   "execution_count": 10,
   "metadata": {},
   "outputs": [
    {
     "data": {
      "text/plain": [
       "(3410019, 12)"
      ]
     },
     "execution_count": 10,
     "metadata": {},
     "output_type": "execute_result"
    }
   ],
   "source": [
    "reviews_df.shape"
   ]
  },
  {
   "cell_type": "code",
   "execution_count": 12,
   "metadata": {},
   "outputs": [
    {
     "data": {
      "text/html": [
       "<div>\n",
       "<style scoped>\n",
       "    .dataframe tbody tr th:only-of-type {\n",
       "        vertical-align: middle;\n",
       "    }\n",
       "\n",
       "    .dataframe tbody tr th {\n",
       "        vertical-align: top;\n",
       "    }\n",
       "\n",
       "    .dataframe thead th {\n",
       "        text-align: right;\n",
       "    }\n",
       "</style>\n",
       "<table border=\"1\" class=\"dataframe\">\n",
       "  <thead>\n",
       "    <tr style=\"text-align: right;\">\n",
       "      <th></th>\n",
       "      <th>overall</th>\n",
       "      <th>verified</th>\n",
       "      <th>reviewTime</th>\n",
       "      <th>reviewerID</th>\n",
       "      <th>asin</th>\n",
       "      <th>style</th>\n",
       "      <th>reviewerName</th>\n",
       "      <th>reviewText</th>\n",
       "      <th>summary</th>\n",
       "      <th>unixReviewTime</th>\n",
       "      <th>vote</th>\n",
       "      <th>image</th>\n",
       "    </tr>\n",
       "  </thead>\n",
       "  <tbody>\n",
       "    <tr>\n",
       "      <th>0</th>\n",
       "      <td>5.0</td>\n",
       "      <td>True</td>\n",
       "      <td>11 9, 2012</td>\n",
       "      <td>A2M1CU2IRZG0K9</td>\n",
       "      <td>0005089549</td>\n",
       "      <td>{'Format:': ' VHS Tape'}</td>\n",
       "      <td>Terri</td>\n",
       "      <td>So sorry I didn't purchase this years ago when...</td>\n",
       "      <td>Amazing!</td>\n",
       "      <td>1352419200</td>\n",
       "      <td>NaN</td>\n",
       "      <td>NaN</td>\n",
       "    </tr>\n",
       "    <tr>\n",
       "      <th>1</th>\n",
       "      <td>5.0</td>\n",
       "      <td>True</td>\n",
       "      <td>12 30, 2011</td>\n",
       "      <td>AFTUJYISOFHY6</td>\n",
       "      <td>0005089549</td>\n",
       "      <td>{'Format:': ' VHS Tape'}</td>\n",
       "      <td>Melissa D. Abercrombie</td>\n",
       "      <td>Believe me when I tell you that you will recei...</td>\n",
       "      <td>Great Gospel VHS of the Cathedrals!</td>\n",
       "      <td>1325203200</td>\n",
       "      <td>NaN</td>\n",
       "      <td>NaN</td>\n",
       "    </tr>\n",
       "    <tr>\n",
       "      <th>2</th>\n",
       "      <td>5.0</td>\n",
       "      <td>True</td>\n",
       "      <td>04 21, 2005</td>\n",
       "      <td>A3JVF9Y53BEOGC</td>\n",
       "      <td>000503860X</td>\n",
       "      <td>{'Format:': ' DVD'}</td>\n",
       "      <td>Anthony Thompson</td>\n",
       "      <td>I have seen X live many times, both in the ear...</td>\n",
       "      <td>A great document of a great band</td>\n",
       "      <td>1114041600</td>\n",
       "      <td>11</td>\n",
       "      <td>NaN</td>\n",
       "    </tr>\n",
       "    <tr>\n",
       "      <th>3</th>\n",
       "      <td>5.0</td>\n",
       "      <td>True</td>\n",
       "      <td>04 6, 2005</td>\n",
       "      <td>A12VPEOEZS1KTC</td>\n",
       "      <td>000503860X</td>\n",
       "      <td>{'Format:': ' DVD'}</td>\n",
       "      <td>JadeRain</td>\n",
       "      <td>I was so excited for this!  Finally, a live co...</td>\n",
       "      <td>YES!!  X LIVE!!</td>\n",
       "      <td>1112745600</td>\n",
       "      <td>5</td>\n",
       "      <td>NaN</td>\n",
       "    </tr>\n",
       "    <tr>\n",
       "      <th>4</th>\n",
       "      <td>5.0</td>\n",
       "      <td>True</td>\n",
       "      <td>12 3, 2010</td>\n",
       "      <td>ATLZNVLYKP9AZ</td>\n",
       "      <td>000503860X</td>\n",
       "      <td>{'Format:': ' DVD'}</td>\n",
       "      <td>T. Fisher</td>\n",
       "      <td>X is one of the best punk bands ever. I don't ...</td>\n",
       "      <td>X have still got it</td>\n",
       "      <td>1291334400</td>\n",
       "      <td>5</td>\n",
       "      <td>NaN</td>\n",
       "    </tr>\n",
       "  </tbody>\n",
       "</table>\n",
       "</div>"
      ],
      "text/plain": [
       "   overall  verified   reviewTime      reviewerID        asin  \\\n",
       "0      5.0      True   11 9, 2012  A2M1CU2IRZG0K9  0005089549   \n",
       "1      5.0      True  12 30, 2011   AFTUJYISOFHY6  0005089549   \n",
       "2      5.0      True  04 21, 2005  A3JVF9Y53BEOGC  000503860X   \n",
       "3      5.0      True   04 6, 2005  A12VPEOEZS1KTC  000503860X   \n",
       "4      5.0      True   12 3, 2010   ATLZNVLYKP9AZ  000503860X   \n",
       "\n",
       "                      style            reviewerName  \\\n",
       "0  {'Format:': ' VHS Tape'}                   Terri   \n",
       "1  {'Format:': ' VHS Tape'}  Melissa D. Abercrombie   \n",
       "2       {'Format:': ' DVD'}        Anthony Thompson   \n",
       "3       {'Format:': ' DVD'}                JadeRain   \n",
       "4       {'Format:': ' DVD'}               T. Fisher   \n",
       "\n",
       "                                          reviewText  \\\n",
       "0  So sorry I didn't purchase this years ago when...   \n",
       "1  Believe me when I tell you that you will recei...   \n",
       "2  I have seen X live many times, both in the ear...   \n",
       "3  I was so excited for this!  Finally, a live co...   \n",
       "4  X is one of the best punk bands ever. I don't ...   \n",
       "\n",
       "                               summary  unixReviewTime vote image  \n",
       "0                             Amazing!      1352419200  NaN   NaN  \n",
       "1  Great Gospel VHS of the Cathedrals!      1325203200  NaN   NaN  \n",
       "2     A great document of a great band      1114041600   11   NaN  \n",
       "3                      YES!!  X LIVE!!      1112745600    5   NaN  \n",
       "4                  X have still got it      1291334400    5   NaN  "
      ]
     },
     "execution_count": 12,
     "metadata": {},
     "output_type": "execute_result"
    }
   ],
   "source": [
    "reviews_df.head()"
   ]
  },
  {
   "cell_type": "code",
   "execution_count": 14,
   "metadata": {},
   "outputs": [
    {
     "data": {
      "text/plain": [
       "{'Format:': ' DVD'}                   1645586\n",
       "{'Format:': ' Amazon Video'}          1027966\n",
       "{'Format:': ' Blu-ray'}                335181\n",
       "{'Format:': ' Prime Video'}            158950\n",
       "{'Format:': ' VHS Tape'}                61821\n",
       "{'Format:': ' HD DVD'}                   1475\n",
       "{'Format:': ' DVD-R'}                    1428\n",
       "{'Format:': ' Theatrical Release'}        801\n",
       "{'Format:': ' Audio CD'}                  657\n",
       "{'Format:': ' DVD-ROM'}                   474\n",
       "Name: style, dtype: int64"
      ]
     },
     "execution_count": 14,
     "metadata": {},
     "output_type": "execute_result"
    }
   ],
   "source": [
    "reviews_df['style'].value_counts()[:10]"
   ]
  },
  {
   "cell_type": "code",
   "execution_count": 16,
   "metadata": {},
   "outputs": [
    {
     "data": {
      "text/plain": [
       "Index([{'Format:': ' DVD'}, {'Format:': ' Amazon Video'},\n",
       "       {'Format:': ' Blu-ray'}],\n",
       "      dtype='object')"
      ]
     },
     "execution_count": 16,
     "metadata": {},
     "output_type": "execute_result"
    }
   ],
   "source": [
    "format_index = reviews_df['style'].value_counts()[:3].index\n",
    "format_index"
   ]
  },
  {
   "cell_type": "markdown",
   "metadata": {},
   "source": [
    "# Loading Ratings"
   ]
  },
  {
   "cell_type": "code",
   "execution_count": 17,
   "metadata": {},
   "outputs": [],
   "source": [
    "ratings = pd.read_csv('Movies_and_TV.csv', names = ['asin','user','rating','timestamp'])\n",
    "ratings.drop('timestamp', axis = 1, inplace = True)"
   ]
  },
  {
   "cell_type": "code",
   "execution_count": 18,
   "metadata": {},
   "outputs": [
    {
     "data": {
      "text/html": [
       "<div>\n",
       "<style scoped>\n",
       "    .dataframe tbody tr th:only-of-type {\n",
       "        vertical-align: middle;\n",
       "    }\n",
       "\n",
       "    .dataframe tbody tr th {\n",
       "        vertical-align: top;\n",
       "    }\n",
       "\n",
       "    .dataframe thead th {\n",
       "        text-align: right;\n",
       "    }\n",
       "</style>\n",
       "<table border=\"1\" class=\"dataframe\">\n",
       "  <thead>\n",
       "    <tr style=\"text-align: right;\">\n",
       "      <th></th>\n",
       "      <th>asin</th>\n",
       "      <th>user</th>\n",
       "      <th>rating</th>\n",
       "    </tr>\n",
       "  </thead>\n",
       "  <tbody>\n",
       "    <tr>\n",
       "      <th>0</th>\n",
       "      <td>0001527665</td>\n",
       "      <td>A3478QRKQDOPQ2</td>\n",
       "      <td>5.0</td>\n",
       "    </tr>\n",
       "    <tr>\n",
       "      <th>1</th>\n",
       "      <td>0001527665</td>\n",
       "      <td>A2VHSG6TZHU1OB</td>\n",
       "      <td>5.0</td>\n",
       "    </tr>\n",
       "    <tr>\n",
       "      <th>2</th>\n",
       "      <td>0001527665</td>\n",
       "      <td>A23EJWOW1TLENE</td>\n",
       "      <td>5.0</td>\n",
       "    </tr>\n",
       "    <tr>\n",
       "      <th>3</th>\n",
       "      <td>0001527665</td>\n",
       "      <td>A1KM9FNEJ8Q171</td>\n",
       "      <td>5.0</td>\n",
       "    </tr>\n",
       "    <tr>\n",
       "      <th>4</th>\n",
       "      <td>0001527665</td>\n",
       "      <td>A38LY2SSHVHRYB</td>\n",
       "      <td>4.0</td>\n",
       "    </tr>\n",
       "  </tbody>\n",
       "</table>\n",
       "</div>"
      ],
      "text/plain": [
       "         asin            user  rating\n",
       "0  0001527665  A3478QRKQDOPQ2     5.0\n",
       "1  0001527665  A2VHSG6TZHU1OB     5.0\n",
       "2  0001527665  A23EJWOW1TLENE     5.0\n",
       "3  0001527665  A1KM9FNEJ8Q171     5.0\n",
       "4  0001527665  A38LY2SSHVHRYB     4.0"
      ]
     },
     "execution_count": 18,
     "metadata": {},
     "output_type": "execute_result"
    }
   ],
   "source": [
    "ratings.head()"
   ]
  },
  {
   "cell_type": "code",
   "execution_count": 19,
   "metadata": {},
   "outputs": [
    {
     "data": {
      "text/plain": [
       "(8765568, 3)"
      ]
     },
     "execution_count": 19,
     "metadata": {},
     "output_type": "execute_result"
    }
   ],
   "source": [
    "ratings.shape"
   ]
  },
  {
   "cell_type": "code",
   "execution_count": 20,
   "metadata": {},
   "outputs": [
    {
     "name": "stdout",
     "output_type": "stream",
     "text": [
      "182032\n",
      "3826085\n",
      "5\n"
     ]
    }
   ],
   "source": [
    "print(ratings['asin'].nunique())\n",
    "print(ratings['user'].nunique())\n",
    "print(ratings['rating'].nunique())"
   ]
  },
  {
   "cell_type": "markdown",
   "metadata": {},
   "source": [
    "# MERGED Reviews with Titles"
   ]
  },
  {
   "cell_type": "code",
   "execution_count": 21,
   "metadata": {},
   "outputs": [],
   "source": [
    "merged_df = pd.merge(reviews_df, meta_df[['title', 'rank', 'main_cat', 'asin']], how = 'inner', \n",
    "         left_on='asin', right_on = 'asin')"
   ]
  },
  {
   "cell_type": "code",
   "execution_count": 22,
   "metadata": {},
   "outputs": [
    {
     "data": {
      "text/html": [
       "<div>\n",
       "<style scoped>\n",
       "    .dataframe tbody tr th:only-of-type {\n",
       "        vertical-align: middle;\n",
       "    }\n",
       "\n",
       "    .dataframe tbody tr th {\n",
       "        vertical-align: top;\n",
       "    }\n",
       "\n",
       "    .dataframe thead th {\n",
       "        text-align: right;\n",
       "    }\n",
       "</style>\n",
       "<table border=\"1\" class=\"dataframe\">\n",
       "  <thead>\n",
       "    <tr style=\"text-align: right;\">\n",
       "      <th></th>\n",
       "      <th>overall</th>\n",
       "      <th>verified</th>\n",
       "      <th>reviewTime</th>\n",
       "      <th>reviewerID</th>\n",
       "      <th>asin</th>\n",
       "      <th>style</th>\n",
       "      <th>reviewerName</th>\n",
       "      <th>reviewText</th>\n",
       "      <th>summary</th>\n",
       "      <th>unixReviewTime</th>\n",
       "      <th>vote</th>\n",
       "      <th>image</th>\n",
       "      <th>title</th>\n",
       "      <th>rank</th>\n",
       "      <th>main_cat</th>\n",
       "    </tr>\n",
       "  </thead>\n",
       "  <tbody>\n",
       "    <tr>\n",
       "      <th>0</th>\n",
       "      <td>5.0</td>\n",
       "      <td>True</td>\n",
       "      <td>11 9, 2012</td>\n",
       "      <td>A2M1CU2IRZG0K9</td>\n",
       "      <td>0005089549</td>\n",
       "      <td>{'Format:': ' VHS Tape'}</td>\n",
       "      <td>Terri</td>\n",
       "      <td>So sorry I didn't purchase this years ago when...</td>\n",
       "      <td>Amazing!</td>\n",
       "      <td>1352419200</td>\n",
       "      <td>NaN</td>\n",
       "      <td>NaN</td>\n",
       "      <td>Cathedral Quartet: A Reunion VHS</td>\n",
       "      <td>679,734inMoviesTV(</td>\n",
       "      <td>Movies &amp; TV</td>\n",
       "    </tr>\n",
       "    <tr>\n",
       "      <th>1</th>\n",
       "      <td>5.0</td>\n",
       "      <td>True</td>\n",
       "      <td>12 30, 2011</td>\n",
       "      <td>AFTUJYISOFHY6</td>\n",
       "      <td>0005089549</td>\n",
       "      <td>{'Format:': ' VHS Tape'}</td>\n",
       "      <td>Melissa D. Abercrombie</td>\n",
       "      <td>Believe me when I tell you that you will recei...</td>\n",
       "      <td>Great Gospel VHS of the Cathedrals!</td>\n",
       "      <td>1325203200</td>\n",
       "      <td>NaN</td>\n",
       "      <td>NaN</td>\n",
       "      <td>Cathedral Quartet: A Reunion VHS</td>\n",
       "      <td>679,734inMoviesTV(</td>\n",
       "      <td>Movies &amp; TV</td>\n",
       "    </tr>\n",
       "    <tr>\n",
       "      <th>2</th>\n",
       "      <td>2.0</td>\n",
       "      <td>False</td>\n",
       "      <td>09 5, 2014</td>\n",
       "      <td>A2EHA554JUGZWL</td>\n",
       "      <td>0005089549</td>\n",
       "      <td>{'Format:': ' Audio CD'}</td>\n",
       "      <td>Lura</td>\n",
       "      <td>NOt a great tape but the quality is good and f...</td>\n",
       "      <td>Two Stars</td>\n",
       "      <td>1409875200</td>\n",
       "      <td>NaN</td>\n",
       "      <td>NaN</td>\n",
       "      <td>Cathedral Quartet: A Reunion VHS</td>\n",
       "      <td>679,734inMoviesTV(</td>\n",
       "      <td>Movies &amp; TV</td>\n",
       "    </tr>\n",
       "    <tr>\n",
       "      <th>3</th>\n",
       "      <td>5.0</td>\n",
       "      <td>True</td>\n",
       "      <td>07 9, 2014</td>\n",
       "      <td>AFUHAIDO20GKI</td>\n",
       "      <td>0005089549</td>\n",
       "      <td>{'Format:': ' VHS Tape'}</td>\n",
       "      <td>David Mcclanahan</td>\n",
       "      <td>It met all of my expectations.  I was well sat...</td>\n",
       "      <td>I was well satisfied with it</td>\n",
       "      <td>1404864000</td>\n",
       "      <td>NaN</td>\n",
       "      <td>NaN</td>\n",
       "      <td>Cathedral Quartet: A Reunion VHS</td>\n",
       "      <td>679,734inMoviesTV(</td>\n",
       "      <td>Movies &amp; TV</td>\n",
       "    </tr>\n",
       "    <tr>\n",
       "      <th>4</th>\n",
       "      <td>5.0</td>\n",
       "      <td>True</td>\n",
       "      <td>04 21, 2005</td>\n",
       "      <td>A3JVF9Y53BEOGC</td>\n",
       "      <td>000503860X</td>\n",
       "      <td>{'Format:': ' DVD'}</td>\n",
       "      <td>Anthony Thompson</td>\n",
       "      <td>I have seen X live many times, both in the ear...</td>\n",
       "      <td>A great document of a great band</td>\n",
       "      <td>1114041600</td>\n",
       "      <td>11</td>\n",
       "      <td>NaN</td>\n",
       "      <td>Chapter X Live [VHS]</td>\n",
       "      <td>1,007,436inMoviesTV(</td>\n",
       "      <td>Movies &amp; TV</td>\n",
       "    </tr>\n",
       "  </tbody>\n",
       "</table>\n",
       "</div>"
      ],
      "text/plain": [
       "   overall  verified   reviewTime      reviewerID        asin  \\\n",
       "0      5.0      True   11 9, 2012  A2M1CU2IRZG0K9  0005089549   \n",
       "1      5.0      True  12 30, 2011   AFTUJYISOFHY6  0005089549   \n",
       "2      2.0     False   09 5, 2014  A2EHA554JUGZWL  0005089549   \n",
       "3      5.0      True   07 9, 2014   AFUHAIDO20GKI  0005089549   \n",
       "4      5.0      True  04 21, 2005  A3JVF9Y53BEOGC  000503860X   \n",
       "\n",
       "                      style            reviewerName  \\\n",
       "0  {'Format:': ' VHS Tape'}                   Terri   \n",
       "1  {'Format:': ' VHS Tape'}  Melissa D. Abercrombie   \n",
       "2  {'Format:': ' Audio CD'}                    Lura   \n",
       "3  {'Format:': ' VHS Tape'}        David Mcclanahan   \n",
       "4       {'Format:': ' DVD'}        Anthony Thompson   \n",
       "\n",
       "                                          reviewText  \\\n",
       "0  So sorry I didn't purchase this years ago when...   \n",
       "1  Believe me when I tell you that you will recei...   \n",
       "2  NOt a great tape but the quality is good and f...   \n",
       "3  It met all of my expectations.  I was well sat...   \n",
       "4  I have seen X live many times, both in the ear...   \n",
       "\n",
       "                               summary  unixReviewTime vote image  \\\n",
       "0                             Amazing!      1352419200  NaN   NaN   \n",
       "1  Great Gospel VHS of the Cathedrals!      1325203200  NaN   NaN   \n",
       "2                            Two Stars      1409875200  NaN   NaN   \n",
       "3         I was well satisfied with it      1404864000  NaN   NaN   \n",
       "4     A great document of a great band      1114041600   11   NaN   \n",
       "\n",
       "                              title                  rank     main_cat  \n",
       "0  Cathedral Quartet: A Reunion VHS    679,734inMoviesTV(  Movies & TV  \n",
       "1  Cathedral Quartet: A Reunion VHS    679,734inMoviesTV(  Movies & TV  \n",
       "2  Cathedral Quartet: A Reunion VHS    679,734inMoviesTV(  Movies & TV  \n",
       "3  Cathedral Quartet: A Reunion VHS    679,734inMoviesTV(  Movies & TV  \n",
       "4              Chapter X Live [VHS]  1,007,436inMoviesTV(  Movies & TV  "
      ]
     },
     "execution_count": 22,
     "metadata": {},
     "output_type": "execute_result"
    }
   ],
   "source": [
    "merged_df.head()"
   ]
  },
  {
   "cell_type": "code",
   "execution_count": 23,
   "metadata": {},
   "outputs": [
    {
     "name": "stdout",
     "output_type": "stream",
     "text": [
      "(3856721, 15)\n",
      "60175\n",
      "58846\n"
     ]
    }
   ],
   "source": [
    "print(merged_df.shape)\n",
    "print(merged_df.asin.nunique())\n",
    "print(merged_df.title.nunique())"
   ]
  },
  {
   "cell_type": "code",
   "execution_count": 24,
   "metadata": {},
   "outputs": [
    {
     "name": "stdout",
     "output_type": "stream",
     "text": [
      "297529\n"
     ]
    }
   ],
   "source": [
    "print(merged_df.reviewerID.nunique())"
   ]
  },
  {
   "cell_type": "code",
   "execution_count": 25,
   "metadata": {},
   "outputs": [
    {
     "data": {
      "text/plain": [
       "Movies & TV                 3855384\n",
       "Sports & Outdoors               507\n",
       "Toys & Games                    256\n",
       "All Electronics                 171\n",
       "Books                           111\n",
       "Amazon Home                      92\n",
       "Industrial & Scientific          68\n",
       "Tools & Home Improvement          6\n",
       "Arts, Crafts & Sewing             5\n",
       "Name: main_cat, dtype: int64"
      ]
     },
     "execution_count": 25,
     "metadata": {},
     "output_type": "execute_result"
    }
   ],
   "source": [
    "merged_df.main_cat.value_counts()"
   ]
  },
  {
   "cell_type": "code",
   "execution_count": 66,
   "metadata": {},
   "outputs": [],
   "source": [
    "merged_df = merged_df[merged_df['main_cat']=='Movies & TV']"
   ]
  },
  {
   "cell_type": "markdown",
   "metadata": {},
   "source": [
    "## Titles"
   ]
  },
  {
   "cell_type": "code",
   "execution_count": 67,
   "metadata": {},
   "outputs": [
    {
     "data": {
      "text/plain": [
       "58795"
      ]
     },
     "execution_count": 67,
     "metadata": {},
     "output_type": "execute_result"
    }
   ],
   "source": [
    "merged_df['title'].nunique()"
   ]
  },
  {
   "cell_type": "markdown",
   "metadata": {},
   "source": [
    "There are almost 60,000 unique titles of movies and shows and other formara"
   ]
  },
  {
   "cell_type": "markdown",
   "metadata": {},
   "source": [
    "## Number of Reviews per Title"
   ]
  },
  {
   "cell_type": "code",
   "execution_count": 175,
   "metadata": {},
   "outputs": [
    {
     "data": {
      "text/plain": [
       "Band Of Brothers (DVD)                                                             11424\n",
       "Guardians of the Galaxy                                                             7195\n",
       "Guardians of the Galaxy [Blu-ray]                                                   7191\n",
       "Guardians Of The Galaxy Region Free                                                 7188\n",
       "John Adams                                                                          7061\n",
       "Lucy                                                                                6926\n",
       "Band of Brothers(Elite SC/BD+DCExp12-21)                                            5748\n",
       "Star Trek Into Darkness                                                             5472\n",
       "The Wire: Season 1                                                                  5164\n",
       "Blade Runner: The Final Cut                                                         4743\n",
       "The Lord Of The Rings: Trilogy                                                      4684\n",
       "The Martian                                                                         4500\n",
       "24: Season 1                                                                        4342\n",
       "Terminator, The                                                                     4220\n",
       "The Hunger Games: Catching Fire 2013                                                4169\n",
       "The Mummy                                                                           4164\n",
       "John Wick                                                                           4096\n",
       "Downton Abbey - Series 4                                                            4054\n",
       "Jack Reacher Combo                                                                  3981\n",
       "Doctor Thorne - Season 1 2015                                                       3871\n",
       "Jurassic World                                                                      3853\n",
       "The Lord of the Rings: The Fellowship of the Ring                                   3834\n",
       "The Big Lebowski VHS                                                                3726\n",
       "Moodtapes: Pacific Surf                                                             3685\n",
       "Kingsman: The Secret Service                                                        3680\n",
       "The Hunger Games (2 Disc) [Region 2] [UK Import]                                    3599\n",
       "The Lord of the Rings: The Return of the King                                       3442\n",
       "Skyfall                                                                             3430\n",
       "The Hobbit: The Battle of the Five Armies [DVD] [2015]                              3417\n",
       "Hobbit 3: The Battle of the Five Armies                                             3414\n",
       "The Hobbit: An Unexpected Journey                                                   3405\n",
       "American Sniper 2014                                                                3376\n",
       "The Captive Ryan Reynolds, Scott Speedman, Rosario Dawson (DVD)                     3293\n",
       "The white queenÂ StagioneÂ 01The white queenÂ StagioneÂ 01 [4 DVDs] [IT Import]     3283\n",
       "Gravity 2013  Region Free                                                           3279\n",
       "Mad Max : Fury Road - Edition limitée 3D - Coffret Voiture [Blu-ray]                3266\n",
       "Mad Max: Fury Road                                                                  3265\n",
       "Taken 2                                                                             3263\n",
       "No Country For Old Men                                                              3206\n",
       "Bone Tomahawk                                                                       3181\n",
       "The Hobbit: The Desolation of Smaug                                                 3155\n",
       "The Dark Knight Theatrical Release                                                  3134\n",
       "Wild                                                                                3073\n",
       "The Lord of the Rings - The Two Towers VHS                                          2924\n",
       "HERCULES                                                                            2896\n",
       "The Equalizer                                                                       2873\n",
       "Prometheus                                                                          2844\n",
       "Avatar Steelbook  Limited UK Edition                                                2821\n",
       "Harry Potter - Complete 8-Film Collection                                           2816\n",
       "X-Men - Apocalypse - The Cure/Come The Apocalypse VHS                               2790\n",
       "Name: title, dtype: int64"
      ]
     },
     "execution_count": 175,
     "metadata": {},
     "output_type": "execute_result"
    }
   ],
   "source": [
    "merged_df.title.value_counts()[:50]"
   ]
  },
  {
   "cell_type": "code",
   "execution_count": null,
   "metadata": {},
   "outputs": [],
   "source": []
  },
  {
   "cell_type": "code",
   "execution_count": 34,
   "metadata": {},
   "outputs": [
    {
     "data": {
      "text/plain": [
       "Band Of Brothers (DVD)                                  11424\n",
       "Guardians of the Galaxy                                  7195\n",
       "Guardians of the Galaxy [Blu-ray]                        7191\n",
       "Guardians Of The Galaxy Region Free                      7188\n",
       "John Adams                                               7061\n",
       "                                                        ...  \n",
       "Music for Montserrat                                       21\n",
       "Dennis the Menace / Dennis the Menace: Strikes Again       21\n",
       "Arne Dahl                                                  21\n",
       "Street Fighter: Round One - FIGHT!                         21\n",
       "Midnight In St.Petersburg                                  21\n",
       "Name: title, Length: 26749, dtype: int64"
      ]
     },
     "execution_count": 34,
     "metadata": {},
     "output_type": "execute_result"
    }
   ],
   "source": [
    "merged_df.title.value_counts()[merged_df.title.value_counts()>20]"
   ]
  },
  {
   "cell_type": "code",
   "execution_count": 143,
   "metadata": {},
   "outputs": [],
   "source": [
    "merged_df  = merged_df[merged_df['title'].str.len() < 200]"
   ]
  },
  {
   "cell_type": "code",
   "execution_count": 144,
   "metadata": {},
   "outputs": [
    {
     "name": "stdout",
     "output_type": "stream",
     "text": [
      "57548\n"
     ]
    }
   ],
   "source": [
    "print(merged_df.title.nunique())"
   ]
  },
  {
   "cell_type": "code",
   "execution_count": 63,
   "metadata": {
    "scrolled": true
   },
   "outputs": [
    {
     "data": {
      "text/plain": [
       "[\"{'Format:': ' DVD'}\",\n",
       " \"{'Format:': ' Amazon Video'}\",\n",
       " \"{'Format:': ' Blu-ray'}\"]"
      ]
     },
     "execution_count": 63,
     "metadata": {},
     "output_type": "execute_result"
    }
   ],
   "source": [
    "[(i) for i in [str(i) for i in format_index]]"
   ]
  },
  {
   "cell_type": "code",
   "execution_count": 85,
   "metadata": {},
   "outputs": [
    {
     "data": {
      "text/plain": [
       "{'Format:': ' DVD'}                                1895009\n",
       "{'Format:': ' Amazon Video'}                       1138190\n",
       "{'Format:': ' Blu-ray'}                             356409\n",
       "{'Format:': ' Prime Video'}                         158928\n",
       "{'Format:': ' VHS Tape'}                             73637\n",
       "{'Format:': ' HD DVD'}                                1949\n",
       "{'Format:': ' DVD-R'}                                 1512\n",
       "{'Format:': ' Theatrical Release'}                    1410\n",
       "{'Format:': ' Audio CD'}                               667\n",
       "{'Format:': ' UMD for PSP'}                            485\n",
       "{'Format:': ' DVD-ROM'}                                478\n",
       "{'Format:': ' Amazon Instant Video'}                   307\n",
       "{'Format:': ' Hardcover'}                              127\n",
       "{'Format:': ' Interactive DVD'}                         97\n",
       "{'Format:': ' Paperback'}                               88\n",
       "{'Format:': ' Laser Disc'}                              82\n",
       "{'Format:': ' DVD Audio'}                               55\n",
       "{'Format:': ' Unknown Binding'}                         41\n",
       "{'Format:': ' Toy'}                                     38\n",
       "{'Format:': ' CD-ROM'}                                  35\n",
       "{'Format:': ' Electronics'}                             33\n",
       "{'Format:': ' MP3 Music'}                               33\n",
       "{'Format:': ' Kindle Edition'}                          32\n",
       "{'Format:': ' Misc.'}                                   20\n",
       "{'Format:': ' Staple Bound'}                            19\n",
       "{'Format:': ' Video CD'}                                18\n",
       "{'Size:': ' unknown'}                                   18\n",
       "{'Format:': ' Wireless Phone Accessory'}                12\n",
       "{'Format:': ' Kitchen'}                                 11\n",
       "{'Format:': ' Kindle Edition with Audio/Video'}         11\n",
       "{'Format:': ' Grocery'}                                  9\n",
       "{'Format:': ' Audio Cassette'}                           8\n",
       "{'Size:': ' Dolphins'}                                   8\n",
       "{'Format:': ' Office Product'}                           7\n",
       "{'Format:': ' Video Game'}                               6\n",
       "{'Format:': ' Videotape'}                                5\n",
       "{'Format:': ' Mass Market Paperback'}                    5\n",
       "{'Format:': ' Vinyl'}                                    5\n",
       "{'Format:': ' Audible Audiobook'}                        3\n",
       "{'Format:': ' MiniDisc'}                                 3\n",
       "{'Format:': ' Misc. Supplies'}                           2\n",
       "{'Format:': ' MP3 CD'}                                   1\n",
       "{'Format:': ' S-VHS'}                                    1\n",
       "{'Format:': ' Unbound'}                                  1\n",
       "{'Format:': ' Accessory'}                                1\n",
       "{'Format:': ' Product Bundle'}                           1\n",
       "Name: style, dtype: int64"
      ]
     },
     "execution_count": 85,
     "metadata": {},
     "output_type": "execute_result"
    }
   ],
   "source": [
    "merged_df['style'].value_counts()"
   ]
  },
  {
   "cell_type": "code",
   "execution_count": 98,
   "metadata": {},
   "outputs": [],
   "source": [
    "subset_df = merged_df[(merged_df['style']==({'Format:': ' DVD'})) | \n",
    "                      ( merged_df['style']==({'Format:': ' Amazon Video'})) |\n",
    "                     ( merged_df['style']==({'Format:': ' Blu-ray'})) |\n",
    "                     ( merged_df['style']==({'Format:': ' Prime Video'}))]"
   ]
  },
  {
   "cell_type": "code",
   "execution_count": 112,
   "metadata": {},
   "outputs": [
    {
     "name": "stdout",
     "output_type": "stream",
     "text": [
      "6715\n"
     ]
    }
   ],
   "source": [
    "print(subset_df.title.nunique())"
   ]
  },
  {
   "cell_type": "code",
   "execution_count": 145,
   "metadata": {},
   "outputs": [
    {
     "data": {
      "text/plain": [
       "Index(['Band Of Brothers (DVD)', 'Guardians of the Galaxy',\n",
       "       'Guardians of the Galaxy [Blu-ray]',\n",
       "       'Guardians Of The Galaxy Region Free', 'Lucy',\n",
       "       'Star Trek Into Darkness', 'John Adams',\n",
       "       'Band of Brothers(Elite SC/BD+DCExp12-21)', 'The Martian',\n",
       "       'Doctor Thorne - Season 1 2015',\n",
       "       ...\n",
       "       'Hetty Wainthropp Investigates: The Complete Collection',\n",
       "       'The Bionic Woman: Season 3', 'High School DxD New: The Series',\n",
       "       'Dylan Dog: Dead of Night', 'Vera, Set 3',\n",
       "       'Chucky: The Complete Collection', 'The Invisible Man: Season One',\n",
       "       'SEX AND THE CITY:CSR (Vivas SC/Rpkg/DVD)', 'High Fidelity VHS',\n",
       "       'The Falls: Testament of Love'],\n",
       "      dtype='object', length=4892)"
      ]
     },
     "execution_count": 145,
     "metadata": {},
     "output_type": "execute_result"
    }
   ],
   "source": [
    "index_populated = subset_df.title.value_counts()[subset_df.title.value_counts()>100].index\n",
    "index_populated"
   ]
  },
  {
   "cell_type": "code",
   "execution_count": 146,
   "metadata": {},
   "outputs": [
    {
     "data": {
      "text/plain": [
       "(1787143, 15)"
      ]
     },
     "execution_count": 146,
     "metadata": {},
     "output_type": "execute_result"
    }
   ],
   "source": [
    "subset_df.shape"
   ]
  },
  {
   "cell_type": "code",
   "execution_count": 147,
   "metadata": {},
   "outputs": [],
   "source": [
    "subset_df = subset_df[subset_df['title'].isin(index_populated)]"
   ]
  },
  {
   "cell_type": "code",
   "execution_count": 148,
   "metadata": {},
   "outputs": [
    {
     "data": {
      "text/plain": [
       "(1647877, 15)"
      ]
     },
     "execution_count": 148,
     "metadata": {},
     "output_type": "execute_result"
    }
   ],
   "source": [
    "subset_df.shape"
   ]
  },
  {
   "cell_type": "code",
   "execution_count": 149,
   "metadata": {},
   "outputs": [
    {
     "data": {
      "text/html": [
       "<div>\n",
       "<style scoped>\n",
       "    .dataframe tbody tr th:only-of-type {\n",
       "        vertical-align: middle;\n",
       "    }\n",
       "\n",
       "    .dataframe tbody tr th {\n",
       "        vertical-align: top;\n",
       "    }\n",
       "\n",
       "    .dataframe thead th {\n",
       "        text-align: right;\n",
       "    }\n",
       "</style>\n",
       "<table border=\"1\" class=\"dataframe\">\n",
       "  <thead>\n",
       "    <tr style=\"text-align: right;\">\n",
       "      <th></th>\n",
       "      <th>overall</th>\n",
       "      <th>verified</th>\n",
       "      <th>reviewTime</th>\n",
       "      <th>reviewerID</th>\n",
       "      <th>asin</th>\n",
       "      <th>style</th>\n",
       "      <th>reviewerName</th>\n",
       "      <th>reviewText</th>\n",
       "      <th>summary</th>\n",
       "      <th>unixReviewTime</th>\n",
       "      <th>vote</th>\n",
       "      <th>image</th>\n",
       "      <th>title</th>\n",
       "      <th>rank</th>\n",
       "      <th>main_cat</th>\n",
       "    </tr>\n",
       "  </thead>\n",
       "  <tbody>\n",
       "    <tr>\n",
       "      <th>37</th>\n",
       "      <td>5.0</td>\n",
       "      <td>True</td>\n",
       "      <td>11 2, 2002</td>\n",
       "      <td>A1HP3B92A3JDQ1</td>\n",
       "      <td>0005019281</td>\n",
       "      <td>{'Format:': ' DVD'}</td>\n",
       "      <td>OmegaWolf747</td>\n",
       "      <td>Of course it's impossible to separate Henry Wi...</td>\n",
       "      <td>The Fonz as Scrooge</td>\n",
       "      <td>1036195200</td>\n",
       "      <td>4</td>\n",
       "      <td>NaN</td>\n",
       "      <td>An American Christmas Carol VHS</td>\n",
       "      <td>704,028inMoviesTV(</td>\n",
       "      <td>Movies &amp; TV</td>\n",
       "    </tr>\n",
       "    <tr>\n",
       "      <th>42</th>\n",
       "      <td>5.0</td>\n",
       "      <td>True</td>\n",
       "      <td>01 30, 2018</td>\n",
       "      <td>A131408USYVUN5</td>\n",
       "      <td>0005019281</td>\n",
       "      <td>{'Format:': ' DVD'}</td>\n",
       "      <td>Conrad R. Naugle</td>\n",
       "      <td>as described</td>\n",
       "      <td>Five Stars</td>\n",
       "      <td>1517270400</td>\n",
       "      <td>NaN</td>\n",
       "      <td>NaN</td>\n",
       "      <td>An American Christmas Carol VHS</td>\n",
       "      <td>704,028inMoviesTV(</td>\n",
       "      <td>Movies &amp; TV</td>\n",
       "    </tr>\n",
       "    <tr>\n",
       "      <th>43</th>\n",
       "      <td>5.0</td>\n",
       "      <td>True</td>\n",
       "      <td>01 25, 2018</td>\n",
       "      <td>A2U7DG83EXUSFP</td>\n",
       "      <td>0005019281</td>\n",
       "      <td>{'Format:': ' DVD'}</td>\n",
       "      <td>Donald R. Brandeberry</td>\n",
       "      <td>A good movie with morals</td>\n",
       "      <td>Family movie</td>\n",
       "      <td>1516838400</td>\n",
       "      <td>NaN</td>\n",
       "      <td>NaN</td>\n",
       "      <td>An American Christmas Carol VHS</td>\n",
       "      <td>704,028inMoviesTV(</td>\n",
       "      <td>Movies &amp; TV</td>\n",
       "    </tr>\n",
       "    <tr>\n",
       "      <th>44</th>\n",
       "      <td>5.0</td>\n",
       "      <td>True</td>\n",
       "      <td>01 11, 2018</td>\n",
       "      <td>A1NMYH2IITNOC4</td>\n",
       "      <td>0005019281</td>\n",
       "      <td>{'Format:': ' DVD'}</td>\n",
       "      <td>Karen Ridge</td>\n",
       "      <td>Love the movie.</td>\n",
       "      <td>Great movie.</td>\n",
       "      <td>1515628800</td>\n",
       "      <td>NaN</td>\n",
       "      <td>NaN</td>\n",
       "      <td>An American Christmas Carol VHS</td>\n",
       "      <td>704,028inMoviesTV(</td>\n",
       "      <td>Movies &amp; TV</td>\n",
       "    </tr>\n",
       "    <tr>\n",
       "      <th>45</th>\n",
       "      <td>5.0</td>\n",
       "      <td>True</td>\n",
       "      <td>01 5, 2018</td>\n",
       "      <td>A1DCI4344E1O3P</td>\n",
       "      <td>0005019281</td>\n",
       "      <td>{'Format:': ' Amazon Video'}</td>\n",
       "      <td>Bob</td>\n",
       "      <td>This TV movie brought back fond memories of th...</td>\n",
       "      <td>Henry Winkler did a great job with the charact...</td>\n",
       "      <td>1515110400</td>\n",
       "      <td>NaN</td>\n",
       "      <td>NaN</td>\n",
       "      <td>An American Christmas Carol VHS</td>\n",
       "      <td>704,028inMoviesTV(</td>\n",
       "      <td>Movies &amp; TV</td>\n",
       "    </tr>\n",
       "  </tbody>\n",
       "</table>\n",
       "</div>"
      ],
      "text/plain": [
       "    overall  verified   reviewTime      reviewerID        asin  \\\n",
       "37      5.0      True   11 2, 2002  A1HP3B92A3JDQ1  0005019281   \n",
       "42      5.0      True  01 30, 2018  A131408USYVUN5  0005019281   \n",
       "43      5.0      True  01 25, 2018  A2U7DG83EXUSFP  0005019281   \n",
       "44      5.0      True  01 11, 2018  A1NMYH2IITNOC4  0005019281   \n",
       "45      5.0      True   01 5, 2018  A1DCI4344E1O3P  0005019281   \n",
       "\n",
       "                           style           reviewerName  \\\n",
       "37           {'Format:': ' DVD'}           OmegaWolf747   \n",
       "42           {'Format:': ' DVD'}       Conrad R. Naugle   \n",
       "43           {'Format:': ' DVD'}  Donald R. Brandeberry   \n",
       "44           {'Format:': ' DVD'}            Karen Ridge   \n",
       "45  {'Format:': ' Amazon Video'}                    Bob   \n",
       "\n",
       "                                           reviewText  \\\n",
       "37  Of course it's impossible to separate Henry Wi...   \n",
       "42                                       as described   \n",
       "43                           A good movie with morals   \n",
       "44                                    Love the movie.   \n",
       "45  This TV movie brought back fond memories of th...   \n",
       "\n",
       "                                              summary  unixReviewTime vote  \\\n",
       "37                                The Fonz as Scrooge      1036195200    4   \n",
       "42                                         Five Stars      1517270400  NaN   \n",
       "43                                       Family movie      1516838400  NaN   \n",
       "44                                       Great movie.      1515628800  NaN   \n",
       "45  Henry Winkler did a great job with the charact...      1515110400  NaN   \n",
       "\n",
       "   image                            title                rank     main_cat  \n",
       "37   NaN  An American Christmas Carol VHS  704,028inMoviesTV(  Movies & TV  \n",
       "42   NaN  An American Christmas Carol VHS  704,028inMoviesTV(  Movies & TV  \n",
       "43   NaN  An American Christmas Carol VHS  704,028inMoviesTV(  Movies & TV  \n",
       "44   NaN  An American Christmas Carol VHS  704,028inMoviesTV(  Movies & TV  \n",
       "45   NaN  An American Christmas Carol VHS  704,028inMoviesTV(  Movies & TV  "
      ]
     },
     "execution_count": 149,
     "metadata": {},
     "output_type": "execute_result"
    }
   ],
   "source": [
    "subset_df.head()"
   ]
  },
  {
   "cell_type": "code",
   "execution_count": 150,
   "metadata": {},
   "outputs": [
    {
     "name": "stdout",
     "output_type": "stream",
     "text": [
      "True    1647877\n",
      "Name: verified, dtype: int64\n",
      "True    1.0\n",
      "Name: verified, dtype: float64\n"
     ]
    }
   ],
   "source": [
    "print(subset_df.verified.value_counts())\n",
    "print(subset_df.verified.value_counts(normalize = True))\n"
   ]
  },
  {
   "cell_type": "code",
   "execution_count": 151,
   "metadata": {},
   "outputs": [],
   "source": [
    "subset_df = subset_df[subset_df['verified'] == True]"
   ]
  },
  {
   "cell_type": "code",
   "execution_count": 152,
   "metadata": {},
   "outputs": [
    {
     "data": {
      "text/plain": [
       "(1647877, 15)"
      ]
     },
     "execution_count": 152,
     "metadata": {},
     "output_type": "execute_result"
    }
   ],
   "source": [
    "subset_df.shape"
   ]
  },
  {
   "cell_type": "markdown",
   "metadata": {},
   "source": [
    "# Ratings matrix from the subset of merged data"
   ]
  },
  {
   "cell_type": "code",
   "execution_count": 153,
   "metadata": {},
   "outputs": [
    {
     "data": {
      "text/plain": [
       "4892"
      ]
     },
     "execution_count": 153,
     "metadata": {},
     "output_type": "execute_result"
    }
   ],
   "source": [
    "subset_df.title.nunique()"
   ]
  },
  {
   "cell_type": "code",
   "execution_count": 111,
   "metadata": {
    "collapsed": true
   },
   "outputs": [
    {
     "ename": "KeyboardInterrupt",
     "evalue": "",
     "output_type": "error",
     "traceback": [
      "\u001b[0;31m---------------------------------------------------------------------------\u001b[0m",
      "\u001b[0;31mKeyboardInterrupt\u001b[0m                         Traceback (most recent call last)",
      "\u001b[0;32m<ipython-input-111-54a9011c43a1>\u001b[0m in \u001b[0;36m<module>\u001b[0;34m\u001b[0m\n\u001b[0;32m----> 1\u001b[0;31m \u001b[0mpd\u001b[0m\u001b[0;34m.\u001b[0m\u001b[0mpivot_table\u001b[0m\u001b[0;34m(\u001b[0m\u001b[0msubset_df\u001b[0m\u001b[0;34m,\u001b[0m \u001b[0mvalues\u001b[0m\u001b[0;34m=\u001b[0m\u001b[0;34m'overall'\u001b[0m\u001b[0;34m,\u001b[0m \u001b[0mindex\u001b[0m\u001b[0;34m=\u001b[0m\u001b[0;34m'reviewerID'\u001b[0m\u001b[0;34m,\u001b[0m \u001b[0mcolumns\u001b[0m\u001b[0;34m=\u001b[0m\u001b[0;34m'title'\u001b[0m\u001b[0;34m)\u001b[0m\u001b[0;34m\u001b[0m\u001b[0;34m\u001b[0m\u001b[0m\n\u001b[0m",
      "\u001b[0;32m~/anaconda3/lib/python3.7/site-packages/pandas/core/reshape/pivot.py\u001b[0m in \u001b[0;36mpivot_table\u001b[0;34m(data, values, index, columns, aggfunc, fill_value, margins, dropna, margins_name, observed)\u001b[0m\n\u001b[1;32m    177\u001b[0m     \u001b[0;31m# GH 15193 Make sure empty columns are removed if dropna=True\u001b[0m\u001b[0;34m\u001b[0m\u001b[0;34m\u001b[0m\u001b[0;34m\u001b[0m\u001b[0m\n\u001b[1;32m    178\u001b[0m     \u001b[0;32mif\u001b[0m \u001b[0misinstance\u001b[0m\u001b[0;34m(\u001b[0m\u001b[0mtable\u001b[0m\u001b[0;34m,\u001b[0m \u001b[0mABCDataFrame\u001b[0m\u001b[0;34m)\u001b[0m \u001b[0;32mand\u001b[0m \u001b[0mdropna\u001b[0m\u001b[0;34m:\u001b[0m\u001b[0;34m\u001b[0m\u001b[0;34m\u001b[0m\u001b[0m\n\u001b[0;32m--> 179\u001b[0;31m         \u001b[0mtable\u001b[0m \u001b[0;34m=\u001b[0m \u001b[0mtable\u001b[0m\u001b[0;34m.\u001b[0m\u001b[0mdropna\u001b[0m\u001b[0;34m(\u001b[0m\u001b[0mhow\u001b[0m\u001b[0;34m=\u001b[0m\u001b[0;34m\"all\"\u001b[0m\u001b[0;34m,\u001b[0m \u001b[0maxis\u001b[0m\u001b[0;34m=\u001b[0m\u001b[0;36m1\u001b[0m\u001b[0;34m)\u001b[0m\u001b[0;34m\u001b[0m\u001b[0;34m\u001b[0m\u001b[0m\n\u001b[0m\u001b[1;32m    180\u001b[0m \u001b[0;34m\u001b[0m\u001b[0m\n\u001b[1;32m    181\u001b[0m     \u001b[0;32mreturn\u001b[0m \u001b[0mtable\u001b[0m\u001b[0;34m\u001b[0m\u001b[0;34m\u001b[0m\u001b[0m\n",
      "\u001b[0;32m~/anaconda3/lib/python3.7/site-packages/pandas/core/frame.py\u001b[0m in \u001b[0;36mdropna\u001b[0;34m(self, axis, how, thresh, subset, inplace)\u001b[0m\n\u001b[1;32m   4860\u001b[0m                 \u001b[0magg_obj\u001b[0m \u001b[0;34m=\u001b[0m \u001b[0mself\u001b[0m\u001b[0;34m.\u001b[0m\u001b[0mtake\u001b[0m\u001b[0;34m(\u001b[0m\u001b[0mindices\u001b[0m\u001b[0;34m,\u001b[0m \u001b[0maxis\u001b[0m\u001b[0;34m=\u001b[0m\u001b[0magg_axis\u001b[0m\u001b[0;34m)\u001b[0m\u001b[0;34m\u001b[0m\u001b[0;34m\u001b[0m\u001b[0m\n\u001b[1;32m   4861\u001b[0m \u001b[0;34m\u001b[0m\u001b[0m\n\u001b[0;32m-> 4862\u001b[0;31m             \u001b[0mcount\u001b[0m \u001b[0;34m=\u001b[0m \u001b[0magg_obj\u001b[0m\u001b[0;34m.\u001b[0m\u001b[0mcount\u001b[0m\u001b[0;34m(\u001b[0m\u001b[0maxis\u001b[0m\u001b[0;34m=\u001b[0m\u001b[0magg_axis\u001b[0m\u001b[0;34m)\u001b[0m\u001b[0;34m\u001b[0m\u001b[0;34m\u001b[0m\u001b[0m\n\u001b[0m\u001b[1;32m   4863\u001b[0m \u001b[0;34m\u001b[0m\u001b[0m\n\u001b[1;32m   4864\u001b[0m             \u001b[0;32mif\u001b[0m \u001b[0mthresh\u001b[0m \u001b[0;32mis\u001b[0m \u001b[0;32mnot\u001b[0m \u001b[0;32mNone\u001b[0m\u001b[0;34m:\u001b[0m\u001b[0;34m\u001b[0m\u001b[0;34m\u001b[0m\u001b[0m\n",
      "\u001b[0;32m~/anaconda3/lib/python3.7/site-packages/pandas/core/frame.py\u001b[0m in \u001b[0;36mcount\u001b[0;34m(self, axis, level, numeric_only)\u001b[0m\n\u001b[1;32m   7844\u001b[0m             \u001b[0;32melse\u001b[0m\u001b[0;34m:\u001b[0m\u001b[0;34m\u001b[0m\u001b[0;34m\u001b[0m\u001b[0m\n\u001b[1;32m   7845\u001b[0m                 \u001b[0;31m# GH13407\u001b[0m\u001b[0;34m\u001b[0m\u001b[0;34m\u001b[0m\u001b[0;34m\u001b[0m\u001b[0m\n\u001b[0;32m-> 7846\u001b[0;31m                 \u001b[0mseries_counts\u001b[0m \u001b[0;34m=\u001b[0m \u001b[0mnotna\u001b[0m\u001b[0;34m(\u001b[0m\u001b[0mframe\u001b[0m\u001b[0;34m)\u001b[0m\u001b[0;34m.\u001b[0m\u001b[0msum\u001b[0m\u001b[0;34m(\u001b[0m\u001b[0maxis\u001b[0m\u001b[0;34m=\u001b[0m\u001b[0maxis\u001b[0m\u001b[0;34m)\u001b[0m\u001b[0;34m\u001b[0m\u001b[0;34m\u001b[0m\u001b[0m\n\u001b[0m\u001b[1;32m   7847\u001b[0m                 \u001b[0mcounts\u001b[0m \u001b[0;34m=\u001b[0m \u001b[0mseries_counts\u001b[0m\u001b[0;34m.\u001b[0m\u001b[0mvalues\u001b[0m\u001b[0;34m\u001b[0m\u001b[0;34m\u001b[0m\u001b[0m\n\u001b[1;32m   7848\u001b[0m                 \u001b[0mresult\u001b[0m \u001b[0;34m=\u001b[0m \u001b[0mSeries\u001b[0m\u001b[0;34m(\u001b[0m\u001b[0mcounts\u001b[0m\u001b[0;34m,\u001b[0m \u001b[0mindex\u001b[0m\u001b[0;34m=\u001b[0m\u001b[0mframe\u001b[0m\u001b[0;34m.\u001b[0m\u001b[0m_get_agg_axis\u001b[0m\u001b[0;34m(\u001b[0m\u001b[0maxis\u001b[0m\u001b[0;34m)\u001b[0m\u001b[0;34m)\u001b[0m\u001b[0;34m\u001b[0m\u001b[0;34m\u001b[0m\u001b[0m\n",
      "\u001b[0;32m~/anaconda3/lib/python3.7/site-packages/pandas/core/dtypes/missing.py\u001b[0m in \u001b[0;36mnotna\u001b[0;34m(obj)\u001b[0m\n\u001b[1;32m    365\u001b[0m     \u001b[0mName\u001b[0m\u001b[0;34m:\u001b[0m \u001b[0;36m1\u001b[0m\u001b[0;34m,\u001b[0m \u001b[0mdtype\u001b[0m\u001b[0;34m:\u001b[0m \u001b[0mbool\u001b[0m\u001b[0;34m\u001b[0m\u001b[0;34m\u001b[0m\u001b[0m\n\u001b[1;32m    366\u001b[0m     \"\"\"\n\u001b[0;32m--> 367\u001b[0;31m     \u001b[0mres\u001b[0m \u001b[0;34m=\u001b[0m \u001b[0misna\u001b[0m\u001b[0;34m(\u001b[0m\u001b[0mobj\u001b[0m\u001b[0;34m)\u001b[0m\u001b[0;34m\u001b[0m\u001b[0;34m\u001b[0m\u001b[0m\n\u001b[0m\u001b[1;32m    368\u001b[0m     \u001b[0;32mif\u001b[0m \u001b[0mis_scalar\u001b[0m\u001b[0;34m(\u001b[0m\u001b[0mres\u001b[0m\u001b[0;34m)\u001b[0m\u001b[0;34m:\u001b[0m\u001b[0;34m\u001b[0m\u001b[0;34m\u001b[0m\u001b[0m\n\u001b[1;32m    369\u001b[0m         \u001b[0;32mreturn\u001b[0m \u001b[0;32mnot\u001b[0m \u001b[0mres\u001b[0m\u001b[0;34m\u001b[0m\u001b[0;34m\u001b[0m\u001b[0m\n",
      "\u001b[0;32m~/anaconda3/lib/python3.7/site-packages/pandas/core/dtypes/missing.py\u001b[0m in \u001b[0;36misna\u001b[0;34m(obj)\u001b[0m\n\u001b[1;32m    120\u001b[0m     \u001b[0mName\u001b[0m\u001b[0;34m:\u001b[0m \u001b[0;36m1\u001b[0m\u001b[0;34m,\u001b[0m \u001b[0mdtype\u001b[0m\u001b[0;34m:\u001b[0m \u001b[0mbool\u001b[0m\u001b[0;34m\u001b[0m\u001b[0;34m\u001b[0m\u001b[0m\n\u001b[1;32m    121\u001b[0m     \"\"\"\n\u001b[0;32m--> 122\u001b[0;31m     \u001b[0;32mreturn\u001b[0m \u001b[0m_isna\u001b[0m\u001b[0;34m(\u001b[0m\u001b[0mobj\u001b[0m\u001b[0;34m)\u001b[0m\u001b[0;34m\u001b[0m\u001b[0;34m\u001b[0m\u001b[0m\n\u001b[0m\u001b[1;32m    123\u001b[0m \u001b[0;34m\u001b[0m\u001b[0m\n\u001b[1;32m    124\u001b[0m \u001b[0;34m\u001b[0m\u001b[0m\n",
      "\u001b[0;32m~/anaconda3/lib/python3.7/site-packages/pandas/core/dtypes/missing.py\u001b[0m in \u001b[0;36m_isna_new\u001b[0;34m(obj)\u001b[0m\n\u001b[1;32m    147\u001b[0m         \u001b[0;32mreturn\u001b[0m \u001b[0m_isna_ndarraylike\u001b[0m\u001b[0;34m(\u001b[0m\u001b[0mobj\u001b[0m\u001b[0;34m)\u001b[0m\u001b[0;34m\u001b[0m\u001b[0;34m\u001b[0m\u001b[0m\n\u001b[1;32m    148\u001b[0m     \u001b[0;32melif\u001b[0m \u001b[0misinstance\u001b[0m\u001b[0;34m(\u001b[0m\u001b[0mobj\u001b[0m\u001b[0;34m,\u001b[0m \u001b[0mABCGeneric\u001b[0m\u001b[0;34m)\u001b[0m\u001b[0;34m:\u001b[0m\u001b[0;34m\u001b[0m\u001b[0;34m\u001b[0m\u001b[0m\n\u001b[0;32m--> 149\u001b[0;31m         \u001b[0;32mreturn\u001b[0m \u001b[0mobj\u001b[0m\u001b[0;34m.\u001b[0m\u001b[0m_constructor\u001b[0m\u001b[0;34m(\u001b[0m\u001b[0mobj\u001b[0m\u001b[0;34m.\u001b[0m\u001b[0m_data\u001b[0m\u001b[0;34m.\u001b[0m\u001b[0misna\u001b[0m\u001b[0;34m(\u001b[0m\u001b[0mfunc\u001b[0m\u001b[0;34m=\u001b[0m\u001b[0misna\u001b[0m\u001b[0;34m)\u001b[0m\u001b[0;34m)\u001b[0m\u001b[0;34m\u001b[0m\u001b[0;34m\u001b[0m\u001b[0m\n\u001b[0m\u001b[1;32m    150\u001b[0m     \u001b[0;32melif\u001b[0m \u001b[0misinstance\u001b[0m\u001b[0;34m(\u001b[0m\u001b[0mobj\u001b[0m\u001b[0;34m,\u001b[0m \u001b[0mlist\u001b[0m\u001b[0;34m)\u001b[0m\u001b[0;34m:\u001b[0m\u001b[0;34m\u001b[0m\u001b[0;34m\u001b[0m\u001b[0m\n\u001b[1;32m    151\u001b[0m         \u001b[0;32mreturn\u001b[0m \u001b[0m_isna_ndarraylike\u001b[0m\u001b[0;34m(\u001b[0m\u001b[0mnp\u001b[0m\u001b[0;34m.\u001b[0m\u001b[0masarray\u001b[0m\u001b[0;34m(\u001b[0m\u001b[0mobj\u001b[0m\u001b[0;34m,\u001b[0m \u001b[0mdtype\u001b[0m\u001b[0;34m=\u001b[0m\u001b[0mobject\u001b[0m\u001b[0;34m)\u001b[0m\u001b[0;34m)\u001b[0m\u001b[0;34m\u001b[0m\u001b[0;34m\u001b[0m\u001b[0m\n",
      "\u001b[0;32m~/anaconda3/lib/python3.7/site-packages/pandas/core/internals/managers.py\u001b[0m in \u001b[0;36misna\u001b[0;34m(self, func, **kwargs)\u001b[0m\n\u001b[1;32m    552\u001b[0m \u001b[0;34m\u001b[0m\u001b[0m\n\u001b[1;32m    553\u001b[0m     \u001b[0;32mdef\u001b[0m \u001b[0misna\u001b[0m\u001b[0;34m(\u001b[0m\u001b[0mself\u001b[0m\u001b[0;34m,\u001b[0m \u001b[0mfunc\u001b[0m\u001b[0;34m,\u001b[0m \u001b[0;34m**\u001b[0m\u001b[0mkwargs\u001b[0m\u001b[0;34m)\u001b[0m\u001b[0;34m:\u001b[0m\u001b[0;34m\u001b[0m\u001b[0;34m\u001b[0m\u001b[0m\n\u001b[0;32m--> 554\u001b[0;31m         \u001b[0;32mreturn\u001b[0m \u001b[0mself\u001b[0m\u001b[0;34m.\u001b[0m\u001b[0mapply\u001b[0m\u001b[0;34m(\u001b[0m\u001b[0;34m\"apply\"\u001b[0m\u001b[0;34m,\u001b[0m \u001b[0mfunc\u001b[0m\u001b[0;34m=\u001b[0m\u001b[0mfunc\u001b[0m\u001b[0;34m,\u001b[0m \u001b[0;34m**\u001b[0m\u001b[0mkwargs\u001b[0m\u001b[0;34m)\u001b[0m\u001b[0;34m\u001b[0m\u001b[0;34m\u001b[0m\u001b[0m\n\u001b[0m\u001b[1;32m    555\u001b[0m \u001b[0;34m\u001b[0m\u001b[0m\n\u001b[1;32m    556\u001b[0m     \u001b[0;32mdef\u001b[0m \u001b[0mwhere\u001b[0m\u001b[0;34m(\u001b[0m\u001b[0mself\u001b[0m\u001b[0;34m,\u001b[0m \u001b[0;34m**\u001b[0m\u001b[0mkwargs\u001b[0m\u001b[0;34m)\u001b[0m\u001b[0;34m:\u001b[0m\u001b[0;34m\u001b[0m\u001b[0;34m\u001b[0m\u001b[0m\n",
      "\u001b[0;32m~/anaconda3/lib/python3.7/site-packages/pandas/core/internals/managers.py\u001b[0m in \u001b[0;36mapply\u001b[0;34m(self, f, axes, filter, do_integrity_check, consolidate, **kwargs)\u001b[0m\n\u001b[1;32m    436\u001b[0m                     \u001b[0mkwargs\u001b[0m\u001b[0;34m[\u001b[0m\u001b[0mk\u001b[0m\u001b[0;34m]\u001b[0m \u001b[0;34m=\u001b[0m \u001b[0mobj\u001b[0m\u001b[0;34m.\u001b[0m\u001b[0mreindex\u001b[0m\u001b[0;34m(\u001b[0m\u001b[0mb_items\u001b[0m\u001b[0;34m,\u001b[0m \u001b[0maxis\u001b[0m\u001b[0;34m=\u001b[0m\u001b[0maxis\u001b[0m\u001b[0;34m,\u001b[0m \u001b[0mcopy\u001b[0m\u001b[0;34m=\u001b[0m\u001b[0malign_copy\u001b[0m\u001b[0;34m)\u001b[0m\u001b[0;34m\u001b[0m\u001b[0;34m\u001b[0m\u001b[0m\n\u001b[1;32m    437\u001b[0m \u001b[0;34m\u001b[0m\u001b[0m\n\u001b[0;32m--> 438\u001b[0;31m             \u001b[0mapplied\u001b[0m \u001b[0;34m=\u001b[0m \u001b[0mgetattr\u001b[0m\u001b[0;34m(\u001b[0m\u001b[0mb\u001b[0m\u001b[0;34m,\u001b[0m \u001b[0mf\u001b[0m\u001b[0;34m)\u001b[0m\u001b[0;34m(\u001b[0m\u001b[0;34m**\u001b[0m\u001b[0mkwargs\u001b[0m\u001b[0;34m)\u001b[0m\u001b[0;34m\u001b[0m\u001b[0;34m\u001b[0m\u001b[0m\n\u001b[0m\u001b[1;32m    439\u001b[0m             \u001b[0mresult_blocks\u001b[0m \u001b[0;34m=\u001b[0m \u001b[0m_extend_blocks\u001b[0m\u001b[0;34m(\u001b[0m\u001b[0mapplied\u001b[0m\u001b[0;34m,\u001b[0m \u001b[0mresult_blocks\u001b[0m\u001b[0;34m)\u001b[0m\u001b[0;34m\u001b[0m\u001b[0;34m\u001b[0m\u001b[0m\n\u001b[1;32m    440\u001b[0m \u001b[0;34m\u001b[0m\u001b[0m\n",
      "\u001b[0;32m~/anaconda3/lib/python3.7/site-packages/pandas/core/internals/blocks.py\u001b[0m in \u001b[0;36mapply\u001b[0;34m(self, func, **kwargs)\u001b[0m\n\u001b[1;32m    392\u001b[0m         \"\"\"\n\u001b[1;32m    393\u001b[0m         \u001b[0;32mwith\u001b[0m \u001b[0mnp\u001b[0m\u001b[0;34m.\u001b[0m\u001b[0merrstate\u001b[0m\u001b[0;34m(\u001b[0m\u001b[0mall\u001b[0m\u001b[0;34m=\u001b[0m\u001b[0;34m\"ignore\"\u001b[0m\u001b[0;34m)\u001b[0m\u001b[0;34m:\u001b[0m\u001b[0;34m\u001b[0m\u001b[0;34m\u001b[0m\u001b[0m\n\u001b[0;32m--> 394\u001b[0;31m             \u001b[0mresult\u001b[0m \u001b[0;34m=\u001b[0m \u001b[0mfunc\u001b[0m\u001b[0;34m(\u001b[0m\u001b[0mself\u001b[0m\u001b[0;34m.\u001b[0m\u001b[0mvalues\u001b[0m\u001b[0;34m,\u001b[0m \u001b[0;34m**\u001b[0m\u001b[0mkwargs\u001b[0m\u001b[0;34m)\u001b[0m\u001b[0;34m\u001b[0m\u001b[0;34m\u001b[0m\u001b[0m\n\u001b[0m\u001b[1;32m    395\u001b[0m         \u001b[0;32mif\u001b[0m \u001b[0;32mnot\u001b[0m \u001b[0misinstance\u001b[0m\u001b[0;34m(\u001b[0m\u001b[0mresult\u001b[0m\u001b[0;34m,\u001b[0m \u001b[0mBlock\u001b[0m\u001b[0;34m)\u001b[0m\u001b[0;34m:\u001b[0m\u001b[0;34m\u001b[0m\u001b[0;34m\u001b[0m\u001b[0m\n\u001b[1;32m    396\u001b[0m             \u001b[0mresult\u001b[0m \u001b[0;34m=\u001b[0m \u001b[0mself\u001b[0m\u001b[0;34m.\u001b[0m\u001b[0mmake_block\u001b[0m\u001b[0;34m(\u001b[0m\u001b[0mvalues\u001b[0m\u001b[0;34m=\u001b[0m\u001b[0m_block_shape\u001b[0m\u001b[0;34m(\u001b[0m\u001b[0mresult\u001b[0m\u001b[0;34m,\u001b[0m \u001b[0mndim\u001b[0m\u001b[0;34m=\u001b[0m\u001b[0mself\u001b[0m\u001b[0;34m.\u001b[0m\u001b[0mndim\u001b[0m\u001b[0;34m)\u001b[0m\u001b[0;34m)\u001b[0m\u001b[0;34m\u001b[0m\u001b[0;34m\u001b[0m\u001b[0m\n",
      "\u001b[0;32m~/anaconda3/lib/python3.7/site-packages/pandas/core/dtypes/missing.py\u001b[0m in \u001b[0;36misna\u001b[0;34m(obj)\u001b[0m\n\u001b[1;32m    120\u001b[0m     \u001b[0mName\u001b[0m\u001b[0;34m:\u001b[0m \u001b[0;36m1\u001b[0m\u001b[0;34m,\u001b[0m \u001b[0mdtype\u001b[0m\u001b[0;34m:\u001b[0m \u001b[0mbool\u001b[0m\u001b[0;34m\u001b[0m\u001b[0;34m\u001b[0m\u001b[0m\n\u001b[1;32m    121\u001b[0m     \"\"\"\n\u001b[0;32m--> 122\u001b[0;31m     \u001b[0;32mreturn\u001b[0m \u001b[0m_isna\u001b[0m\u001b[0;34m(\u001b[0m\u001b[0mobj\u001b[0m\u001b[0;34m)\u001b[0m\u001b[0;34m\u001b[0m\u001b[0;34m\u001b[0m\u001b[0m\n\u001b[0m\u001b[1;32m    123\u001b[0m \u001b[0;34m\u001b[0m\u001b[0m\n\u001b[1;32m    124\u001b[0m \u001b[0;34m\u001b[0m\u001b[0m\n",
      "\u001b[0;32m~/anaconda3/lib/python3.7/site-packages/pandas/core/dtypes/missing.py\u001b[0m in \u001b[0;36m_isna_new\u001b[0;34m(obj)\u001b[0m\n\u001b[1;32m    145\u001b[0m         ),\n\u001b[1;32m    146\u001b[0m     ):\n\u001b[0;32m--> 147\u001b[0;31m         \u001b[0;32mreturn\u001b[0m \u001b[0m_isna_ndarraylike\u001b[0m\u001b[0;34m(\u001b[0m\u001b[0mobj\u001b[0m\u001b[0;34m)\u001b[0m\u001b[0;34m\u001b[0m\u001b[0;34m\u001b[0m\u001b[0m\n\u001b[0m\u001b[1;32m    148\u001b[0m     \u001b[0;32melif\u001b[0m \u001b[0misinstance\u001b[0m\u001b[0;34m(\u001b[0m\u001b[0mobj\u001b[0m\u001b[0;34m,\u001b[0m \u001b[0mABCGeneric\u001b[0m\u001b[0;34m)\u001b[0m\u001b[0;34m:\u001b[0m\u001b[0;34m\u001b[0m\u001b[0;34m\u001b[0m\u001b[0m\n\u001b[1;32m    149\u001b[0m         \u001b[0;32mreturn\u001b[0m \u001b[0mobj\u001b[0m\u001b[0;34m.\u001b[0m\u001b[0m_constructor\u001b[0m\u001b[0;34m(\u001b[0m\u001b[0mobj\u001b[0m\u001b[0;34m.\u001b[0m\u001b[0m_data\u001b[0m\u001b[0;34m.\u001b[0m\u001b[0misna\u001b[0m\u001b[0;34m(\u001b[0m\u001b[0mfunc\u001b[0m\u001b[0;34m=\u001b[0m\u001b[0misna\u001b[0m\u001b[0;34m)\u001b[0m\u001b[0;34m)\u001b[0m\u001b[0;34m\u001b[0m\u001b[0;34m\u001b[0m\u001b[0m\n",
      "\u001b[0;32m~/anaconda3/lib/python3.7/site-packages/pandas/core/dtypes/missing.py\u001b[0m in \u001b[0;36m_isna_ndarraylike\u001b[0;34m(obj)\u001b[0m\n\u001b[1;32m    254\u001b[0m         \u001b[0mresult\u001b[0m \u001b[0;34m=\u001b[0m \u001b[0mvalues\u001b[0m\u001b[0;34m.\u001b[0m\u001b[0mview\u001b[0m\u001b[0;34m(\u001b[0m\u001b[0;34m\"i8\"\u001b[0m\u001b[0;34m)\u001b[0m \u001b[0;34m==\u001b[0m \u001b[0miNaT\u001b[0m\u001b[0;34m\u001b[0m\u001b[0;34m\u001b[0m\u001b[0m\n\u001b[1;32m    255\u001b[0m     \u001b[0;32melse\u001b[0m\u001b[0;34m:\u001b[0m\u001b[0;34m\u001b[0m\u001b[0;34m\u001b[0m\u001b[0m\n\u001b[0;32m--> 256\u001b[0;31m         \u001b[0mresult\u001b[0m \u001b[0;34m=\u001b[0m \u001b[0mnp\u001b[0m\u001b[0;34m.\u001b[0m\u001b[0misnan\u001b[0m\u001b[0;34m(\u001b[0m\u001b[0mvalues\u001b[0m\u001b[0;34m)\u001b[0m\u001b[0;34m\u001b[0m\u001b[0;34m\u001b[0m\u001b[0m\n\u001b[0m\u001b[1;32m    257\u001b[0m \u001b[0;34m\u001b[0m\u001b[0m\n\u001b[1;32m    258\u001b[0m     \u001b[0;31m# box\u001b[0m\u001b[0;34m\u001b[0m\u001b[0;34m\u001b[0m\u001b[0;34m\u001b[0m\u001b[0m\n",
      "\u001b[0;31mKeyboardInterrupt\u001b[0m: "
     ]
    }
   ],
   "source": [
    "pd.pivot_table(subset_df, values='overall', index='reviewerID', columns='title')"
   ]
  },
  {
   "cell_type": "code",
   "execution_count": null,
   "metadata": {},
   "outputs": [],
   "source": []
  },
  {
   "cell_type": "code",
   "execution_count": 154,
   "metadata": {},
   "outputs": [
    {
     "name": "stdout",
     "output_type": "stream",
     "text": [
      "4892\n",
      "(1647877, 15)\n"
     ]
    },
    {
     "name": "stderr",
     "output_type": "stream",
     "text": [
      "IOPub data rate exceeded.\n",
      "The notebook server will temporarily stop sending output\n",
      "to the client in order to avoid crashing it.\n",
      "To change this limit, set the config variable\n",
      "`--NotebookApp.iopub_data_rate_limit`.\n",
      "\n",
      "Current values:\n",
      "NotebookApp.iopub_data_rate_limit=1000000.0 (bytes/sec)\n",
      "NotebookApp.rate_limit_window=3.0 (secs)\n",
      "\n"
     ]
    }
   ],
   "source": [
    "print(subset_df.title.nunique())\n",
    "print(subset_df.shape)\n",
    "print(subset_df.groupby('title').size())"
   ]
  },
  {
   "cell_type": "code",
   "execution_count": null,
   "metadata": {},
   "outputs": [],
   "source": []
  },
  {
   "cell_type": "code",
   "execution_count": null,
   "metadata": {},
   "outputs": [],
   "source": []
  },
  {
   "cell_type": "code",
   "execution_count": 157,
   "metadata": {},
   "outputs": [],
   "source": [
    " subset_df = subset_df[subset_df['title'].str.len() < 200]"
   ]
  },
  {
   "cell_type": "code",
   "execution_count": null,
   "metadata": {},
   "outputs": [],
   "source": []
  },
  {
   "cell_type": "code",
   "execution_count": 158,
   "metadata": {},
   "outputs": [
    {
     "data": {
      "text/html": [
       "<div>\n",
       "<style scoped>\n",
       "    .dataframe tbody tr th:only-of-type {\n",
       "        vertical-align: middle;\n",
       "    }\n",
       "\n",
       "    .dataframe tbody tr th {\n",
       "        vertical-align: top;\n",
       "    }\n",
       "\n",
       "    .dataframe thead th {\n",
       "        text-align: right;\n",
       "    }\n",
       "</style>\n",
       "<table border=\"1\" class=\"dataframe\">\n",
       "  <thead>\n",
       "    <tr style=\"text-align: right;\">\n",
       "      <th></th>\n",
       "      <th>overall</th>\n",
       "      <th>verified</th>\n",
       "      <th>reviewTime</th>\n",
       "      <th>reviewerID</th>\n",
       "      <th>asin</th>\n",
       "      <th>style</th>\n",
       "      <th>reviewerName</th>\n",
       "      <th>reviewText</th>\n",
       "      <th>summary</th>\n",
       "      <th>unixReviewTime</th>\n",
       "      <th>vote</th>\n",
       "      <th>image</th>\n",
       "      <th>rank</th>\n",
       "      <th>main_cat</th>\n",
       "    </tr>\n",
       "    <tr>\n",
       "      <th>title</th>\n",
       "      <th></th>\n",
       "      <th></th>\n",
       "      <th></th>\n",
       "      <th></th>\n",
       "      <th></th>\n",
       "      <th></th>\n",
       "      <th></th>\n",
       "      <th></th>\n",
       "      <th></th>\n",
       "      <th></th>\n",
       "      <th></th>\n",
       "      <th></th>\n",
       "      <th></th>\n",
       "      <th></th>\n",
       "    </tr>\n",
       "  </thead>\n",
       "  <tbody>\n",
       "    <tr>\n",
       "      <th>\"Sriracha\" - a Documentary By Griffin Hammond [Blu-ray]</th>\n",
       "      <td>405</td>\n",
       "      <td>405</td>\n",
       "      <td>405</td>\n",
       "      <td>405</td>\n",
       "      <td>405</td>\n",
       "      <td>405</td>\n",
       "      <td>405</td>\n",
       "      <td>404</td>\n",
       "      <td>405</td>\n",
       "      <td>405</td>\n",
       "      <td>15</td>\n",
       "      <td>1</td>\n",
       "      <td>405</td>\n",
       "      <td>405</td>\n",
       "    </tr>\n",
       "    <tr>\n",
       "      <th>'71 2014</th>\n",
       "      <td>247</td>\n",
       "      <td>247</td>\n",
       "      <td>247</td>\n",
       "      <td>247</td>\n",
       "      <td>247</td>\n",
       "      <td>247</td>\n",
       "      <td>247</td>\n",
       "      <td>247</td>\n",
       "      <td>247</td>\n",
       "      <td>247</td>\n",
       "      <td>14</td>\n",
       "      <td>0</td>\n",
       "      <td>247</td>\n",
       "      <td>247</td>\n",
       "    </tr>\n",
       "    <tr>\n",
       "      <th>(500) Days of Summer</th>\n",
       "      <td>161</td>\n",
       "      <td>161</td>\n",
       "      <td>161</td>\n",
       "      <td>161</td>\n",
       "      <td>161</td>\n",
       "      <td>161</td>\n",
       "      <td>161</td>\n",
       "      <td>161</td>\n",
       "      <td>161</td>\n",
       "      <td>161</td>\n",
       "      <td>20</td>\n",
       "      <td>0</td>\n",
       "      <td>161</td>\n",
       "      <td>161</td>\n",
       "    </tr>\n",
       "    <tr>\n",
       "      <th>10 Cloverfield Lane</th>\n",
       "      <td>1240</td>\n",
       "      <td>1240</td>\n",
       "      <td>1240</td>\n",
       "      <td>1240</td>\n",
       "      <td>1240</td>\n",
       "      <td>1240</td>\n",
       "      <td>1240</td>\n",
       "      <td>1240</td>\n",
       "      <td>1239</td>\n",
       "      <td>1240</td>\n",
       "      <td>77</td>\n",
       "      <td>4</td>\n",
       "      <td>1240</td>\n",
       "      <td>1240</td>\n",
       "    </tr>\n",
       "    <tr>\n",
       "      <th>10 Things I Hate About You VHS</th>\n",
       "      <td>288</td>\n",
       "      <td>288</td>\n",
       "      <td>288</td>\n",
       "      <td>288</td>\n",
       "      <td>288</td>\n",
       "      <td>288</td>\n",
       "      <td>288</td>\n",
       "      <td>288</td>\n",
       "      <td>287</td>\n",
       "      <td>288</td>\n",
       "      <td>18</td>\n",
       "      <td>1</td>\n",
       "      <td>288</td>\n",
       "      <td>288</td>\n",
       "    </tr>\n",
       "    <tr>\n",
       "      <th>...</th>\n",
       "      <td>...</td>\n",
       "      <td>...</td>\n",
       "      <td>...</td>\n",
       "      <td>...</td>\n",
       "      <td>...</td>\n",
       "      <td>...</td>\n",
       "      <td>...</td>\n",
       "      <td>...</td>\n",
       "      <td>...</td>\n",
       "      <td>...</td>\n",
       "      <td>...</td>\n",
       "      <td>...</td>\n",
       "      <td>...</td>\n",
       "      <td>...</td>\n",
       "    </tr>\n",
       "    <tr>\n",
       "      <th>Zulu</th>\n",
       "      <td>259</td>\n",
       "      <td>259</td>\n",
       "      <td>259</td>\n",
       "      <td>259</td>\n",
       "      <td>259</td>\n",
       "      <td>259</td>\n",
       "      <td>259</td>\n",
       "      <td>259</td>\n",
       "      <td>259</td>\n",
       "      <td>259</td>\n",
       "      <td>47</td>\n",
       "      <td>1</td>\n",
       "      <td>259</td>\n",
       "      <td>259</td>\n",
       "    </tr>\n",
       "    <tr>\n",
       "      <th>Zulu Dawn VHS</th>\n",
       "      <td>140</td>\n",
       "      <td>140</td>\n",
       "      <td>140</td>\n",
       "      <td>140</td>\n",
       "      <td>140</td>\n",
       "      <td>140</td>\n",
       "      <td>139</td>\n",
       "      <td>140</td>\n",
       "      <td>140</td>\n",
       "      <td>140</td>\n",
       "      <td>21</td>\n",
       "      <td>0</td>\n",
       "      <td>140</td>\n",
       "      <td>140</td>\n",
       "    </tr>\n",
       "    <tr>\n",
       "      <th>resident evil collection (5 dvd) box set dvd Italian Import</th>\n",
       "      <td>163</td>\n",
       "      <td>163</td>\n",
       "      <td>163</td>\n",
       "      <td>163</td>\n",
       "      <td>163</td>\n",
       "      <td>163</td>\n",
       "      <td>163</td>\n",
       "      <td>162</td>\n",
       "      <td>163</td>\n",
       "      <td>163</td>\n",
       "      <td>20</td>\n",
       "      <td>3</td>\n",
       "      <td>163</td>\n",
       "      <td>163</td>\n",
       "    </tr>\n",
       "    <tr>\n",
       "      <th>snowpiercer (2 blu-ray) blu_ray Italian Import</th>\n",
       "      <td>687</td>\n",
       "      <td>687</td>\n",
       "      <td>687</td>\n",
       "      <td>687</td>\n",
       "      <td>687</td>\n",
       "      <td>687</td>\n",
       "      <td>687</td>\n",
       "      <td>687</td>\n",
       "      <td>687</td>\n",
       "      <td>687</td>\n",
       "      <td>155</td>\n",
       "      <td>1</td>\n",
       "      <td>687</td>\n",
       "      <td>687</td>\n",
       "    </tr>\n",
       "    <tr>\n",
       "      <th>~HERO~</th>\n",
       "      <td>342</td>\n",
       "      <td>342</td>\n",
       "      <td>342</td>\n",
       "      <td>342</td>\n",
       "      <td>342</td>\n",
       "      <td>342</td>\n",
       "      <td>342</td>\n",
       "      <td>342</td>\n",
       "      <td>342</td>\n",
       "      <td>342</td>\n",
       "      <td>40</td>\n",
       "      <td>0</td>\n",
       "      <td>342</td>\n",
       "      <td>342</td>\n",
       "    </tr>\n",
       "  </tbody>\n",
       "</table>\n",
       "<p>4794 rows × 14 columns</p>\n",
       "</div>"
      ],
      "text/plain": [
       "                                                    overall  verified  \\\n",
       "title                                                                   \n",
       "\"Sriracha\" - a Documentary By Griffin Hammond [...      405       405   \n",
       "'71 2014                                                247       247   \n",
       "(500) Days of Summer                                    161       161   \n",
       "10 Cloverfield Lane                                    1240      1240   \n",
       "10 Things I Hate About You VHS                          288       288   \n",
       "...                                                     ...       ...   \n",
       "Zulu                                                    259       259   \n",
       "Zulu Dawn VHS                                           140       140   \n",
       "resident evil collection (5 dvd) box set dvd It...      163       163   \n",
       "snowpiercer (2 blu-ray) blu_ray Italian Import          687       687   \n",
       "~HERO~                                                  342       342   \n",
       "\n",
       "                                                    reviewTime  reviewerID  \\\n",
       "title                                                                        \n",
       "\"Sriracha\" - a Documentary By Griffin Hammond [...         405         405   \n",
       "'71 2014                                                   247         247   \n",
       "(500) Days of Summer                                       161         161   \n",
       "10 Cloverfield Lane                                       1240        1240   \n",
       "10 Things I Hate About You VHS                             288         288   \n",
       "...                                                        ...         ...   \n",
       "Zulu                                                       259         259   \n",
       "Zulu Dawn VHS                                              140         140   \n",
       "resident evil collection (5 dvd) box set dvd It...         163         163   \n",
       "snowpiercer (2 blu-ray) blu_ray Italian Import             687         687   \n",
       "~HERO~                                                     342         342   \n",
       "\n",
       "                                                    asin  style  reviewerName  \\\n",
       "title                                                                           \n",
       "\"Sriracha\" - a Documentary By Griffin Hammond [...   405    405           405   \n",
       "'71 2014                                             247    247           247   \n",
       "(500) Days of Summer                                 161    161           161   \n",
       "10 Cloverfield Lane                                 1240   1240          1240   \n",
       "10 Things I Hate About You VHS                       288    288           288   \n",
       "...                                                  ...    ...           ...   \n",
       "Zulu                                                 259    259           259   \n",
       "Zulu Dawn VHS                                        140    140           139   \n",
       "resident evil collection (5 dvd) box set dvd It...   163    163           163   \n",
       "snowpiercer (2 blu-ray) blu_ray Italian Import       687    687           687   \n",
       "~HERO~                                               342    342           342   \n",
       "\n",
       "                                                    reviewText  summary  \\\n",
       "title                                                                     \n",
       "\"Sriracha\" - a Documentary By Griffin Hammond [...         404      405   \n",
       "'71 2014                                                   247      247   \n",
       "(500) Days of Summer                                       161      161   \n",
       "10 Cloverfield Lane                                       1240     1239   \n",
       "10 Things I Hate About You VHS                             288      287   \n",
       "...                                                        ...      ...   \n",
       "Zulu                                                       259      259   \n",
       "Zulu Dawn VHS                                              140      140   \n",
       "resident evil collection (5 dvd) box set dvd It...         162      163   \n",
       "snowpiercer (2 blu-ray) blu_ray Italian Import             687      687   \n",
       "~HERO~                                                     342      342   \n",
       "\n",
       "                                                    unixReviewTime  vote  \\\n",
       "title                                                                      \n",
       "\"Sriracha\" - a Documentary By Griffin Hammond [...             405    15   \n",
       "'71 2014                                                       247    14   \n",
       "(500) Days of Summer                                           161    20   \n",
       "10 Cloverfield Lane                                           1240    77   \n",
       "10 Things I Hate About You VHS                                 288    18   \n",
       "...                                                            ...   ...   \n",
       "Zulu                                                           259    47   \n",
       "Zulu Dawn VHS                                                  140    21   \n",
       "resident evil collection (5 dvd) box set dvd It...             163    20   \n",
       "snowpiercer (2 blu-ray) blu_ray Italian Import                 687   155   \n",
       "~HERO~                                                         342    40   \n",
       "\n",
       "                                                    image  rank  main_cat  \n",
       "title                                                                      \n",
       "\"Sriracha\" - a Documentary By Griffin Hammond [...      1   405       405  \n",
       "'71 2014                                                0   247       247  \n",
       "(500) Days of Summer                                    0   161       161  \n",
       "10 Cloverfield Lane                                     4  1240      1240  \n",
       "10 Things I Hate About You VHS                          1   288       288  \n",
       "...                                                   ...   ...       ...  \n",
       "Zulu                                                    1   259       259  \n",
       "Zulu Dawn VHS                                           0   140       140  \n",
       "resident evil collection (5 dvd) box set dvd It...      3   163       163  \n",
       "snowpiercer (2 blu-ray) blu_ray Italian Import          1   687       687  \n",
       "~HERO~                                                  0   342       342  \n",
       "\n",
       "[4794 rows x 14 columns]"
      ]
     },
     "execution_count": 158,
     "metadata": {},
     "output_type": "execute_result"
    }
   ],
   "source": [
    "subset_df.groupby('title').count()"
   ]
  },
  {
   "cell_type": "code",
   "execution_count": 121,
   "metadata": {},
   "outputs": [
    {
     "name": "stdout",
     "output_type": "stream",
     "text": [
      "8554\n"
     ]
    }
   ],
   "source": [
    "print(subset_df.groupby('title').size().max())"
   ]
  },
  {
   "cell_type": "code",
   "execution_count": 115,
   "metadata": {},
   "outputs": [],
   "source": [
    "subset_df.to_csv('reviews.csv', index = False)"
   ]
  },
  {
   "cell_type": "code",
   "execution_count": null,
   "metadata": {},
   "outputs": [],
   "source": []
  },
  {
   "cell_type": "code",
   "execution_count": null,
   "metadata": {},
   "outputs": [],
   "source": []
  },
  {
   "cell_type": "code",
   "execution_count": null,
   "metadata": {},
   "outputs": [],
   "source": []
  },
  {
   "cell_type": "code",
   "execution_count": null,
   "metadata": {},
   "outputs": [],
   "source": []
  },
  {
   "cell_type": "code",
   "execution_count": null,
   "metadata": {},
   "outputs": [],
   "source": []
  },
  {
   "cell_type": "code",
   "execution_count": null,
   "metadata": {},
   "outputs": [],
   "source": []
  }
 ],
 "metadata": {
  "kernelspec": {
   "display_name": "Python 3",
   "language": "python",
   "name": "python3"
  },
  "language_info": {
   "codemirror_mode": {
    "name": "ipython",
    "version": 3
   },
   "file_extension": ".py",
   "mimetype": "text/x-python",
   "name": "python",
   "nbconvert_exporter": "python",
   "pygments_lexer": "ipython3",
   "version": "3.7.4"
  },
  "toc": {
   "base_numbering": 1,
   "nav_menu": {},
   "number_sections": true,
   "sideBar": true,
   "skip_h1_title": false,
   "title_cell": "Table of Contents",
   "title_sidebar": "Contents",
   "toc_cell": false,
   "toc_position": {},
   "toc_section_display": true,
   "toc_window_display": true
  },
  "varInspector": {
   "cols": {
    "lenName": 16,
    "lenType": 16,
    "lenVar": 40
   },
   "kernels_config": {
    "python": {
     "delete_cmd_postfix": "",
     "delete_cmd_prefix": "del ",
     "library": "var_list.py",
     "varRefreshCmd": "print(var_dic_list())"
    },
    "r": {
     "delete_cmd_postfix": ") ",
     "delete_cmd_prefix": "rm(",
     "library": "var_list.r",
     "varRefreshCmd": "cat(var_dic_list()) "
    }
   },
   "position": {
    "height": "643.457px",
    "left": "1633.39px",
    "right": "20px",
    "top": "130.918px",
    "width": "456.934px"
   },
   "types_to_exclude": [
    "module",
    "function",
    "builtin_function_or_method",
    "instance",
    "_Feature"
   ],
   "window_display": false
  }
 },
 "nbformat": 4,
 "nbformat_minor": 2
}
